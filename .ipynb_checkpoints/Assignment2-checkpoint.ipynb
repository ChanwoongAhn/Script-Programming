{
 "cells": [
  {
   "cell_type": "markdown",
   "metadata": {},
   "source": [
    "### 1번 문제\n",
    "- 다음 6 개의 Expression에 대해 Evaluation 결과 값을 출력하고, 해당 결과가 나온 이유에 대해 설명하시오"
   ]
  },
  {
   "cell_type": "code",
   "execution_count": 21,
   "metadata": {},
   "outputs": [
    {
     "name": "stdout",
     "output_type": "stream",
     "text": [
      "Evaluation of 1 and 2 and 3 and 4 : 4\n",
      "Evaluation of 1 or 2 or 3 or 4 : 1\n",
      "Evaluation of 1 and 2 or 3 and 4 : 2\n",
      "Evaluation of (1 and 2) or (3 and 4) : 2\n",
      "Evaluation of 1 or 2 and 3 or 4 : 1\n",
      "Evaluation of (1 or 2) and (3 or 4) : 3\n"
     ]
    }
   ],
   "source": [
    "print (\"Evaluation of 1 and 2 and 3 and 4 : \" +str((1 and 2 and 3 and 4)))\n",
    "print (\"Evaluation of 1 or 2 or 3 or 4 : \" +str((1 or 2 or 3 or 4)))\n",
    "print (\"Evaluation of 1 and 2 or 3 and 4 : \" +str((1 and 2 or 3 and 4)))\n",
    "print (\"Evaluation of (1 and 2) or (3 and 4) : \" +str(((1 and 2) or (3 and 4))))\n",
    "print (\"Evaluation of 1 or 2 and 3 or 4 : \" + str((1 or 2 and 3 or 4)))\n",
    "print (\"Evaluation of (1 or 2) and (3 or 4) : \" + str((1 or 2) and (3 or 4)))"
   ]
  },
  {
   "cell_type": "markdown",
   "metadata": {},
   "source": [
    "- 1 and 2 and 3 and 4\n",
    "  - and 연산자의 경우 x and y 를 기준으로 했을 때, x가 거짓이면 x를 반환하고, 그 외의 경우 y를 반환하다. 값 1의 경우, 참을 나타내는 값 이므로 위 연산에서 차례대로 1 and 2 = 2 값이 나오고, 다음으로 2 and 3의 경우 2라는 값이 거짓이 아니므로 3을 반환한다. 마찬가지로 다음 연산인 3 and 4의 경우 4 값이 반환되므로 결과로 4의 값을 갖는다.\n",
    "- 1 or 2 or 3 or 4\n",
    "  - or 연산자의 경우 x or y 를 기준으로 했을 때, x가 거짓이면 y를 반환하고, 그 외의 경우 x를 반환한다. 값 1의 경우, 참을 나타내는 값 이므로 위 연산에서 차례대로 1 or 2 = 1 값이 나오고, 다음으로 1 or 3의 경우 1이 참을 의미하는 값 이므로 1, 마지막 연산인 1 or 4 역시 1이 참을 의미하는 값 이므로 4라는 결과 값을 갖는다.\n",
    "- 1 and 2 or 3 and 4\n",
    "  - and와 or 연산에서 and 연산이 우선순위를 가지므로, 1 and 2의 연산을 우선 시행하면, 1의 값이 거짓이 아니기 때문에 2를 결과값으로 가지고, 다음으로 3 and 4의 연산을 시행하면, 3의 값이 거짓이 아니기 때문에 4를 결과값으로 가진다. 마지막으로 2 or 4 연산을 하면, 2의 값이 거짓이 아니기 때문에 2를 결과값으로 가진다.\n",
    "- (1 and 2) or (3 and 4)\n",
    "  - 수학에서의 연산과 같이 괄호 안에 있는 연산이 우선순위를 갖는다. 따라서 1 and 2 = 2, 3 and 4 = 4 마지막으로 2 or 4 = 2의 값이 나오게 된다.\n",
    "- 1 or 2 and 3 or 4\n",
    "  - and와 or 연산에서 and 연산이 우선순위를 가지므로, 2 and 3 연산을 우선 시행하면, 2가 거짓 값이 아니므로, 3을 결과 값으로 가진다. 다음으로 남은 연산이 모두 or 연산 이므로, 앞에서 부터 차례대로 연산을 시행하면 1 or 3 = 1, 1 or 4 = 1을 결과값으로 가진다.\n",
    "\n",
    "- (1 or 2) and (3 or 4)\n",
    "  - 괄호 안에 있는 연산이 우선순위를 가지므로, 1 or 2 = 1, 3 or 4 = 3, 1 and 3 = 3의 값을 결과값으로 가진다."
   ]
  },
  {
   "cell_type": "markdown",
   "metadata": {},
   "source": [
    "### 2번 문제\n",
    "- 경로에 해당하는 문자열 1개를 입력 받아 그 안에 디렉토리 경로명과 파일명을 분리하여 리스트로 반환하는 함수 div_path(s)를 작성하시오."
   ]
  },
  {
   "cell_type": "code",
   "execution_count": 75,
   "metadata": {},
   "outputs": [
    {
     "name": "stdout",
     "output_type": "stream",
     "text": [
      "['usr/local/bin', 'python']\n",
      "['home/chulsoo', 'test.txt']\n"
     ]
    }
   ],
   "source": [
    "def div_path(s) :\n",
    "    L = [\"\", \"\"]\n",
    "    count = len(s) - 1\n",
    "    while count >= 0 :\n",
    "        if s[count] == \"/\" :\n",
    "            break\n",
    "        else :\n",
    "            count = count - 1\n",
    "    L[0] = s[1 : count]\n",
    "    L[1] = s[count+1 : len(s)+1]\n",
    "    \n",
    "    return print (L)\n",
    "\n",
    "div_path('/usr/local/bin/python')\n",
    "div_path('/home/chulsoo/test.txt')"
   ]
  },
  {
   "cell_type": "markdown",
   "metadata": {},
   "source": [
    "#### Solution\n",
    "- 보통 경로명이 /.../.../.. 와 같이 앞에 오고 마지막 /를 기점으로 파일명이 나타내 지므로, 문자열 슬라이싱을 활용하여 마지막 '/'를 기점으로 나누면 경로명과 파일명을 따로 분리시킬 수 있다. 경로명과 파일명을 분리하여 저장할 리스트 L을 생성한다. 입력받은 문자열에서 마지막 '/'을 찾고자 하는 것이므로 문자열의 위치를 나타내는 변수인 count는 문자열의 길이보다 1만큼 작은 값을 초기값으로 갖는다. while문을 이용하여 문자열의 첫 번째 '/'가 나오는 위치를 count 변수에 저장하게 하고, while 문을 빠져나오도록 한다. 이후에 문자열 슬라이싱을 이용하여 리스트의 첫번째 원소에 문자열의 처음부터 count 번째 문자 이전까지를 저장하고, 리스트의 두번째 원소에 count번째 다음 문자부터 문자열의 마지막 이전 원소까지를 저장하게 하고 리스트를 출력하는 print() 문을 반환하도록 구상한다."
   ]
  },
  {
   "cell_type": "markdown",
   "metadata": {},
   "source": [
    "### 3번 문제\n",
    "- 두 개의 리스트를 인자로 받아서 그 두 개의 리스트에 대한 '합집합'을 반환하는 함수 list_union(lista, listb)를 작성하시오."
   ]
  },
  {
   "cell_type": "code",
   "execution_count": 70,
   "metadata": {},
   "outputs": [
    {
     "name": "stdout",
     "output_type": "stream",
     "text": [
      "[1, 2, 3, 4]\n",
      "[-10, -5, -1, 0, 9, 100]\n",
      "[0, 1, 2]\n"
     ]
    }
   ],
   "source": [
    "def list_union(lista, listb) :\n",
    "    L = lista\n",
    "    count = 0\n",
    "    while count < len(listb) :\n",
    "        if listb[count] not in L :\n",
    "            L.append(listb[count])\n",
    "        count = count + 1\n",
    "    \n",
    "    count = 0\n",
    "    while count < len(L) :\n",
    "        num = 0\n",
    "        while num < len(L) :\n",
    "            if L[count] < L[num] :\n",
    "                temp = L[count]\n",
    "                L[count] = L[num]\n",
    "                L[num] = temp\n",
    "            num = num + 1\n",
    "        count = count + 1\n",
    "    return print(list(L))\n",
    "\n",
    "list_union([1, 2, 3], [1, 2, 4])\n",
    "list_union([-10, -5, 0, -1], [100, 9, 0, 9])\n",
    "list_union([0, 1, 2], [0, 1, 2])"
   ]
  },
  {
   "cell_type": "markdown",
   "metadata": {},
   "source": [
    "#### Solution\n",
    "- 인자로 받은 두 개의 리스트중 하나를 반환할 리스트에 저장하고, 해당 리스트에 나머지 다른 리스트의 원소값이 존재하지 않으면 원소를 추가하여 마지막에 리스트를 정렬하는 식으로 프로그램을 구상하였다. 리스트에 원소가 존재하지 않는지 판단하는 x not in L 구문과 리스트에 새로운 정수값을 넣는 구문인 L.append(x)를 이용하여 중복되는 원소가 존재하지 않도록 간단히 합집합을 구현할 수 있었다. 다음으로, 오름차순으로 정렬하는 것은 반복문 두개를 중복 사용하여 쉽게 구현할 수 있었다."
   ]
  },
  {
   "cell_type": "markdown",
   "metadata": {},
   "source": [
    "### [ACM-ICPC 문제 1110번]\n",
    "- 0보다 크거나 같고, 99보다 작거나 같은 정수가 주어질 때 다음과 같은 연산을 할 수 있다. 먼저 주어진 수가 10보다 작다면 앞에 0을 붙여 두 자리 수로 만들고, 각 자리의 숫자를 더한다. 그 다음, 주어진 수의 가장 오른쪽 자리 숫자와 앞에서 구한 합의 가장 오른쪽 자리 숫자를 이어 붙이면 새로운 수를 만들 수 있다. 다음 예를 보자. 26부터 시작한다. 2+6 = 8이다. 새로운 숫자는 68이다. 6+8 = 14이다. 새로운 숫자는 84이다. 8+4 = 12이다. 새로운 숫자는 42이다. 4+2 = 6이다. 새로운 숫자는 26이다. 위의 예는 4번만에 원래 숫자로 돌아올 수 있다. 따라서 26의 사이클의 길이는 4이다. N이 주어졌을 때, N의 사이클의 길이를 구하는 프로그램을 작성하시오."
   ]
  },
  {
   "cell_type": "code",
   "execution_count": 20,
   "metadata": {},
   "outputs": [
    {
     "name": "stdout",
     "output_type": "stream",
     "text": [
      "5\n",
      "3\n"
     ]
    }
   ],
   "source": [
    "N = str(input())\n",
    "num_list = [0,0]\n",
    "count = 0\n",
    "\n",
    "if len(N) == 1 :\n",
    "    number = \"0\" + N\n",
    "else :\n",
    "    number = N\n",
    "num_list[0] = number[0]\n",
    "num_list[1] = number[1]\n",
    "\n",
    "while 1 :\n",
    "    count = count + 1\n",
    "    sum = str(int(num_list[0]) + int(num_list[1]))\n",
    "     \n",
    "    num_list[0] = num_list[1]\n",
    "    if len(sum) == 1 :\n",
    "        num_list[1] = sum[0]\n",
    "    else :\n",
    "        num_list[1] = sum[1]\n",
    "        \n",
    "    if num_list[0] == number[0] and num_list[1] == number[1] :\n",
    "        print (count)\n",
    "        break;    "
   ]
  },
  {
   "cell_type": "markdown",
   "metadata": {},
   "source": [
    "#### Solution\n",
    "- 우선, 0보다 크거나 같고 99보다 작거나 같은 정수를 문자열 타입으로 입력받아서 변수 N에 저장한다. 변수로는 사이클 별로 값의 각 자릿수 값을 저장할 리스트와 사이클의 횟수를 저장할 count 변수를 선언하고 초기값은 0으로 설정한다. 문제에 제시되었듯, 입력받은 값이 한자리 정수일 경우, 앞자리에 0을 붙여 두자리 값 처럼 보이게 설정해야 하는데, 문자열의 값은 변경 불가하다. 따라서 새로운 문자열 변수 number을 선언하고, 입력받은 초기값이 한자리 정수인 경우 \"0\"을 앞자리에 붙여서 nunber 정수에 저장한다. 다음으로 각 자리 값을 num_list 라는 리스트에 저장하되, 0번째 인덱스에는 십의 자리 수, 1번째 인덱스에는 일의 자리 수를 저장한다. 사이클이 총 몇번이 될 지 모르므로, 무한루프 내에서 사이클을 돌게 하되, 사이클이 변경 될 때 값이 초기값과 같아지면 무한루프를 빠져나오도록 구상하였다. 매 사이클마다 count 변수의 값을 1 증가시키고, sum이라는 변수에 각 자리수의 합을 구하여 문자열 타입으로 저장한다. 만약 sum 변수의 값이 한자리 정수로 된 문자열인 경우 그대로 다음 사이클에 오게 될 값의 일의 자리 수에 저장시키고 두자리 정수로 된 문자열인 경우 십의 자리 숫자는 버림하고 일의 자리 숫자만 다음 값의 일의 자리 수에 저장시킨다. 다음 값이 초기 값과 같아지게 되면 사이클을 출력시키고 루프를 빠져나오도록 한다."
   ]
  },
  {
   "cell_type": "markdown",
   "metadata": {},
   "source": [
    "### [정답 확인 표]\n",
    "![title](Script-Programming/image/result02.JPG)"
   ]
  },
  {
   "cell_type": "markdown",
   "metadata": {},
   "source": [
    "### [Incremental Project] \n",
    "- 웹 URL로 지정된 웹페이지를 문자열로 가져와 1) 모든 HTML 태그를 제외한 순수 텍스트 문자열만을 걸러내고, 2) 그 순수 텍스트 문자열 안에 존재하는 단어가 총 몇개인지 출력하는 프로그램을 작성하시오."
   ]
  },
  {
   "cell_type": "code",
   "execution_count": 12,
   "metadata": {},
   "outputs": [
    {
     "name": "stdout",
     "output_type": "stream",
     "text": [
      "453\n",
      "['컴퓨터공학부', 'Schoolfun', 'Study', 'and', 'Fun', '로그인', '로그인', '아이디', '비밀번호', '로그인', '유지', '브라우저를', '닫더라도', '로그인이', '계속', '유지될', '수', '있습니다.', '로그인', '유지', '기능을', '사용할', '경우', '다음', '접속부터는', '로그인할', '필요가', '없습니다.', '단,', '게임방,', '학교', '등', '공공장소에서', '이용', '시', '개인정보가', '유출될', '수', '있으니', '꼭', '로그아웃을', '해주세요.', '회원가입', 'ID/PW', '찾기', 'IT', '교육의', '글로벌', '메카!', '한국기술교육대학교', '컴퓨터공학부', 'Close', '소개', '구성원소개', '학사안내', '입학', '학부', '대학원', '학부광장', '자료실', '대학원', '공학교육인증', '학부서비스', 'Registration', '컴퓨터공학부', 'School', 'of', 'Computer', 'Science', 'and', 'Engineering', 'IT', '융합소프트웨어', '인력양성사업', 'CK', '(Creative', 'Korea)-I', '교육역량강화사업', '온라인', '컨텐츠', 'Online', 'Contents', 'for', 'Education', 'Capability', 'Empowerment', 'IT', '교육의', '글로벌', '메카', '한국기술교육대학교', '컴퓨터공학부', '홈페이지에', '오신', '것을', '환영합니다!', 'IT', '융합소프트웨어', '인력양성사업', '글로벌', '수준의', 'IT전문인력', '양성', 'IT융합분야에', '대한', '국제적인', '경쟁력', '고취', '바로가기', '교육역량강화사업', '컨텐츠', '교육역량강화사업', '온라인', '컨텐츠를', '소개합니다.', '바로가기', '공지사항', '[특성화]', 'G-STAR', '2017', '전시회', '학생', '모집', '공고', '2017-10-19', '14:46', '14:46', '[특성화]프레젠테이션', '실무', '자격증', '반', '특강', '2017-10-17', '17:41', '17:41', '2017년', '졸업작품', '영어발표', '경진대회', '및', '공학설계', '아이...', '2017-10-11', '09:24', '09:24', '[특성화]', '2017', 'IT융합', '프로그래밍', '경시대회', '모집', '공고', '2017-10-10', '15:49', '15:49', '[특성화]', 'ICTS', '2017', '중국', '전시회', '선발학생', '공고', '2017-09-28', '10:18', '10:18', '자유게시판', 'PaaS', '&amp;amp;', 'IaaS', '오라클데이', '개최', '(천안)', '2017-10-19', '08:58', '08:58', '제6회', '레몬', '정보보호', '세미나', '개최', '2017-10-06', '23:40', '23:40', '예비역', '훈련', '및', '뒤풀이', '공지!', '2017-09-19', '21:16', '21:16', '모의토익비를', '지원해드립니다.^^', '2017-09-17', '20:08', '20:08', '4공학관', 'B동', '입구', '담배피우는', '문제로', '글을', '올립니다.', '2017-09-11', '22:13', '22:13', '취업게시판', '[평택]', '애디언트오토모티브인테리어코리아_IT팀', '신입사...', '2017-10-19', '08:45', '08:45', '[천안]', '(주)ABB코리아', '채용', '공고문', '로봇사업부', '채용(...', '2017-09-29', '11:29', '11:29', '영풍전자(주)', '[안산]_직무별[제조기술/품질/개발/마...', '2017-09-25', '10:04', '10:04', '[용인-수원(내년', '통합예정)]', '㈜라온옵틱스', '신입,', '경력...', '2017-09-25', '09:21', '09:21', '엑시콘', '산학공동연구소', '연구원', '모집(~9/18)', '2017-09-08', '13:46', '13:46', 'Platum', '창업자,”스타트업', '전반', '분위기', '64점”,', '정부', '점수는', '“56점”', '2017-10-19', '14:02', '14:02', '3D', '프린팅', '의료기업', '‘애니메디솔루션’,', '15억', '원', '투자유치', '2017-10-19', '12:29', '12:29', '넥스트플로어,', '스튜디오포립', '전략적', '투자', '2017-10-19', '12:19', '12:19', '메쉬코리아,', '올', '3분기', '누적', '거래액', '515억', '2017-10-19', '12:13', '12:13', '맹목적', '글로벌', '진출을', '목표로', '해서는', '안된다.', '2017-10-19', '12:03', '12:03', '전자신문', '커넥티드카,', '5G+와이파이', '동시활용', '길', '열린다…글...', '2017-10-19', '17:00', '17:00', 'SK텔레콤', '양자기술,', '美서', '극찬', '\"정말', '잘', '만든', '멋...', '2017-10-19', '17:00', '17:00', '[ICT시사용어]논스탠드얼론', '5G(NSA', '5G)', '2017-10-19', '16:13', '16:13', '中', 'ZTE', '접이식', '스마트폰', \"'액손M'\", '출시', '2017-10-19', '16:07', '16:07', '유영민', '장관,', '4차', '산업혁명', '대비', '아이디어', '기반', '2017-10-19', '15:20', '15:20', 'TechCrunch', 'Hiya,', 'a', 'Whitepages', 'spinout,', 'nabs', '$18M', 'to', 'for', 'i...', '2017-10-19', '16:24', '16:24', 'European', 'house', 'removals', 'platform', 'Movinga', 'raise...', '2017-10-19', '15:45', '15:45', 'Safaricom', 'launches', 'innovation', 'center', 'to', 'move', 'b...', '2017-10-19', '15:30', '15:30', 'Tony', 'Fadell’s', 'newest', 'product?', 'An', 'investing', 'and...', '2017-10-19', '15:15', '15:15', 'Crunch', 'Report', 'Snapchat', 'Halloween', 'Costume', '2017-10-19', '12:30', '12:30', 'Back', 'to', 'Top', 'Leading', 'Together', 'for', 'Brighter', 'Future', 'Quick', 'Navigation', '한국기술교육대학교', '홈페이지', '한국기술교육대학교', 'WEBMAIL', '한국기술교육대학교', '온라인', '평생교육원', 'IT', '융합소프트웨어', '인력양성사업', '컴퓨터공학부', '교직원', '업무', '자료실', '컴퓨터공학부', '포트폴리오', 'Campus', 'Location', 'Contact', 'CSE', '충청남도', '천안시', '동남구', '병천면', '충절로', '1600', '한국기술교육대학교', '컴퓨터공학부', '학과사무실', 'TEL', '(041)', '560', '1460', '~', '1461', 'FAX', '(041)', '560', '1462', 'Facebook', 'Twitter', 'Google', 'Plus', 'Linkedin', '(31253)', '충청남도', '천안시', '동남구', '병천면', '충절로', '1600', '(가전리,', '한국기술교육대학교)', '컴퓨터공학부', 'Copyright', '©', '2015.', 'All', 'rights', 'reserved']\n"
     ]
    }
   ],
   "source": [
    "from urllib import request \n",
    " \n",
    "url = 'http://cse.koreatech.ac.kr'\n",
    "f = request.urlopen(url)\n",
    "source_bytes = f.read()\n",
    "source = source_bytes.decode('utf-8')\n",
    "\n",
    "loc = 0\n",
    "Voca = [0]\n",
    "\n",
    "while loc < len(source) :\n",
    "    if source[loc] == \"<\" : # \"<\"가 나온 뒤 부터는 \">\"가 나올 때 까지 루프 반복\n",
    "        while 1 :\n",
    "            loc = loc + 1\n",
    "            if source[loc] == \">\" :\n",
    "                if loc == (len(source) - 1) :\n",
    "                    loc = loc + 1\n",
    "                    break\n",
    "                loc = loc + 1\n",
    "                break\n",
    "    elif source[loc] == \" \" or source[loc] == \"\\n\" or source[loc] == \"\\t\" or source[loc] == \"-\"\\\n",
    "    or source[loc] == \">\" or source[loc] == \"/\" or source[loc] == \".\" or source[loc] == \"|\": # 문자가 아닌 것 예외처리\n",
    "        if loc == (len(source) - 1) :\n",
    "                    break\n",
    "        loc = loc + 1\n",
    "    else : # 그 외의 경우 (단어)\n",
    "        count = 0\n",
    "        while 1 :\n",
    "            if source[loc + count] == \" \" or source[loc + count] == \"\\n\":\n",
    "                Voca.append(source[loc : loc + count])\n",
    "                loc = count + loc + 1\n",
    "                break\n",
    "            elif source[loc + count] == \"<\" :\n",
    "                Voca.append(source[loc : loc + count])\n",
    "                loc = count + loc\n",
    "                break\n",
    "            count = count + 1\n",
    "    if loc == (len(source) - 1) :\n",
    "        break\n",
    "\n",
    "Voca[0:1] = [] #첫번째에 저장되어 있는 \"0\" 원소 삭제\n",
    "print(len(Voca))\n",
    "print(Voca)"
   ]
  },
  {
   "cell_type": "markdown",
   "metadata": {},
   "source": [
    "#### Solution\n",
    "- 태그를 제외한 단어의 갯수를 세어야 하므로 \"<\"로 시작하는 문자열은 \">\"가 나올 때 까지 while 문을 통해 무한 루프를 돌게 하고 그 외에 공백, 줄바꿈, \"-\", \"/\" 기호와 같은 것들은 단어가 아니기 때문에 리스트에 저장하지 않도록 하였다. \"<\" 기호로 시작하여 \">\"가 나오기 전에 \"<\" 기호가 다시 나오는 문장이 있는 경우 마지막 \">\"기호가 단어로 판단되어지기 때문에 \">\"로 시작하는 문자열도 단어로 파악하지 않도록 조건문을 걸었다. 전체적인 프로그램 알고리즘은 이렇다. 문자열의 단어를 순서대로 읽어오고, 위에서 말했던 예외를 제외하면 단어로 판단하고, 단어를 읽어오다가 공백이나 \"<\" 문자가 다음에 있으면 단어의 끝으로 판단하여 Voca 라는 리스트에 저장시켰다. Voca라는 리스트에 단어를 저장시킬 때 append를 이용하여 리스트에 추가시켰으므로 초기에 Voca[0]에 0이 들어가 있는 것을 지우기 위해 0을 삭제하였다."
   ]
  },
  {
   "cell_type": "markdown",
   "metadata": {},
   "source": [
    "### [느낀점]\n",
    "- 지난번 과제와 마찬가지로, 언어를 배우는 초기 단계라 그런지 대체적으로 어려웠던 이론이나 개념은 없었던것 같다. 단지 다른 언어와 문법이 달라서 조금 햇갈릴 뿐이었고 과제할 때 크게 어려웠던 점은 없었던 것 같다. 하지만 마지막 Incremental Project 문제를 풀 때 모든 단어들을 리스트에 담아서 출력하도록 프로그래밍을 하였는데, HTML 태그 안에 있는 단어가 아니더라도 HTML 태그 외부에 단어가 아닌 문자들이 간혹 있어서 예외처리를 해 주느라 조금 번거로웠던 것 같다. 항상 과제를 하고 수업을 듣고 나면 과제 이후의 수업시간에 배운 내용 중에 더 쉽고 간결하게 문제를 해결하거나 코딩을 하는 법을 배워서 수월한 과제를 위해 조금의 예습이 필요한 것 같다."
   ]
  }
 ],
 "metadata": {
  "kernelspec": {
   "display_name": "Python 3",
   "language": "python",
   "name": "python3"
  },
  "language_info": {
   "codemirror_mode": {
    "name": "ipython",
    "version": 3
   },
   "file_extension": ".py",
   "mimetype": "text/x-python",
   "name": "python",
   "nbconvert_exporter": "python",
   "pygments_lexer": "ipython3",
   "version": "3.6.1"
  }
 },
 "nbformat": 4,
 "nbformat_minor": 2
}
