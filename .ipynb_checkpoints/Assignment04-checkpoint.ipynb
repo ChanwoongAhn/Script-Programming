{
 "cells": [
  {
   "cell_type": "markdown",
   "metadata": {},
   "source": [
    "## [Assignment04]\n",
    "- 2012136079  \n",
    "안찬웅\n"
   ]
  },
  {
   "cell_type": "markdown",
   "metadata": {},
   "source": [
    "### [1번 문제]\n",
    "- 파일 s.txt 내의 다음 내용과 함께 아래 문제의 코드를 제시하시오.    \n",
    "\n",
    "    pig ham  \n",
    "    cat dog  \n",
    "    ham bird  \n",
    "    dog pig  "
   ]
  },
  {
   "cell_type": "markdown",
   "metadata": {},
   "source": [
    "1) 파일 s.txt을 읽어서 각 라인에 있는 첫 번째 단어(문자열) 자체들을 기준으로 라인별 정렬후 파일 s1.txt에 그 결과를 기록하는 코드를 작성하시오."
   ]
  },
  {
   "cell_type": "code",
   "execution_count": 1,
   "metadata": {
    "collapsed": true
   },
   "outputs": [],
   "source": [
    "f = open('s.txt', 'r')     # 위에서 만든 s.txt파일을 read 형태로 open.\n",
    "a = []                     # a변수에 빈 리스트를 할당\n",
    "for line in f.readlines(): # 라인별로 파일을 읽어서\n",
    "    a.append(line)         # append()함수를 통해 라인별로 a리스트에 넣음.\n",
    "a.sort()                   # for문이 종료된 후(a리스트에 s.txt파일의 내용이 다 들어간 후에) sort()함수를 이용해 정렬\n",
    "f.close()                  # close()를 이용해 파일을 닫음\n",
    "\n",
    "f = open('s1.txt', 'w')    # write모드로 s1.txt를 open\n",
    "f.writelines(a)            # writeline()함수를 이용해 a리스트 내용을 s1.txt에 저장\n",
    "f.close()                  # close()로 파일 닫음"
   ]
  },
  {
   "cell_type": "markdown",
   "metadata": {},
   "source": [
    "#### [결과 화면]\n",
    "![title](image/Image01.JPG)"
   ]
  },
  {
   "cell_type": "markdown",
   "metadata": {},
   "source": [
    "2) 파일 s.txt을 읽어서 각 라인에 있는 두 번째 단어(문자열) 자체들을 기준으로 라인별 정렬후 파일 s2.txt에 그 결과를 기록하는 코드를 작성하시오. "
   ]
  },
  {
   "cell_type": "code",
   "execution_count": 2,
   "metadata": {},
   "outputs": [
    {
     "name": "stdout",
     "output_type": "stream",
     "text": [
      "['pig', 'ham', 'cat', 'dog', 'ham', 'bird', 'dog', 'pig']\n",
      "[['pig', 'ham'], ['cat', 'dog'], ['ham', 'bird'], ['dog', 'pig']]\n"
     ]
    }
   ],
   "source": [
    "f = open('s.txt', 'r')                # 우선 s.txt를 read형태로 open\n",
    "a1 = []                               # a1 변수에 빈 리스트를 할당해놓고\n",
    "for line in f.readlines():            # 파일을 line별로 읽어서\n",
    "    a1.append(line)                   # a1리스트에 line별로 append한다.\n",
    "a2 = []                               # a2라는 빈 리스트를 만들어\n",
    "for i in a1:                          # for문을 이용해 아까만든 a1리스트 전체를 돌려\n",
    "    a2 = a2 + i.split()               # split()함수를 이용해 공백으로 단어를 나누어 빈 리스트 a2에 저장한다.\n",
    "print (a2)                            # 참고로 a2를 출력해보면 아래와 같이 단어별로 리스트가 됨을 알 수 있다.\n",
    "\n",
    "a3 = []                               # a3라는 빈 리스트를 만들어\n",
    "for i in range(0, len(a2)-1, 2):      # for문을 이용해 \n",
    "    a3.append([a2[i],a2[i+1]])        # 각 라인별 단어(2개)를 묶어서 각각의 리스트로 만들어 준다.\n",
    "print (a3)                            # 아래의 결과를 보면 이해하기 쉽다.\n",
    "a3.sort(key = lambda x:x[1])          # 람다 함수를 이용해 각 라인 두 번째 단어를 기준으로 라인별로 정렬해준다.\n",
    "for i in range(len(a3)):\n",
    "    a3[i] = ' '.join(a3[i])           # 그리고 다시 for문을 이용해 라인별 단어 두개를 join시켜준다.\n",
    "    \n",
    "f = open('s2.txt','w')\n",
    "f.write('\\n'.join(a3))                # 마지막으로 s2.txt파일을 쓰기 모드로 open해 join함수를 이용해 a3리스트 내용을 라인별로 입력\n",
    "f.close()"
   ]
  },
  {
   "cell_type": "markdown",
   "metadata": {},
   "source": [
    "#### [결과 화면]\n",
    "![title](image/Image02.JPG)"
   ]
  },
  {
   "cell_type": "markdown",
   "metadata": {},
   "source": [
    "3) 파일 s.txt을 읽어서 각 라인들에 있는 모든 단어들을 순차적으로 다시 나열하되 각 라인에 세 개의 단어들이 오도록 하여 s3.txt에 기록하는 코드를 작성하시오."
   ]
  },
  {
   "cell_type": "code",
   "execution_count": 3,
   "metadata": {},
   "outputs": [
    {
     "name": "stdout",
     "output_type": "stream",
     "text": [
      "['pig', 'ham', 'cat', 'dog', 'ham', 'bird', 'dog', 'pig']\n"
     ]
    }
   ],
   "source": [
    "f = open('s.txt','r')         # 우선 s.txt를 read형태로 open하고\n",
    "b1 = []                       # b1이라는 빈 리스트를 생성.\n",
    "for line in f.readlines():    # for문으로 파일을 라인별로 읽어서 \n",
    "    b1.append(line)           # 빈 리스트 b1에 라인별로 append해준다.\n",
    "f.close()\n",
    "\n",
    "f = open('s3.txt', 'w')       # 이제 s3.txt파일을 write형태로 open하고\n",
    "b2 = []                       # b2라는 빈 리스트를 생성해\n",
    "for i in b1:                  # for문으로 b1을 돌려\n",
    "    b2 = b2 + i.split()       # 빈 리스트 b2에 b2 + split()함수를 이용해 공백으로 단어를 나눠 저장한다.\n",
    "print (b2)                    # b2를 출력해보면 아래 출력결과와 같이 단어별로 리스트에 들어가 있음을 알 수 있다.\n",
    "for i in range(0, len(b2)):   # 다시 for문을 이용해 \n",
    "    if i % 3 == 0 and i != 0: # 조건문을 사용, 라인별로 단어를 3개씩 읽어서\n",
    "        f.write(\"\\n\")         \n",
    "    f.write(b2[i] + \" \")      # 파일에 write한다.\n",
    "        \n",
    "f.close()"
   ]
  },
  {
   "cell_type": "markdown",
   "metadata": {},
   "source": [
    "#### [결과 화면]\n",
    "![title](image/Image03.JPG)"
   ]
  },
  {
   "cell_type": "markdown",
   "metadata": {},
   "source": [
    "### [2번 문제]\n",
    "- 다음과 같은 조건들을 참고하여 회원 가입 및 로그인 프로그램을 작성하시오."
   ]
  },
  {
   "cell_type": "code",
   "execution_count": 4,
   "metadata": {},
   "outputs": [
    {
     "name": "stdout",
     "output_type": "stream",
     "text": [
      "\n",
      "Welcome to Our Service\n",
      "\n",
      "1. Sign Up\n",
      "2. Sign In\n",
      "3. Quit\n",
      "\n",
      "collect service1\n",
      "ID :Woong123\n",
      "PassWord:ripemd160\n",
      "Name:Chanwoong\n",
      "School:Koreatech\n",
      "\n",
      "\n"
     ]
    },
    {
     "ename": "TypeError",
     "evalue": "sequence item 1: expected str instance, _hashlib.HASH found",
     "output_type": "error",
     "traceback": [
      "\u001b[1;31m---------------------------------------------------------------------------\u001b[0m",
      "\u001b[1;31mTypeError\u001b[0m                                 Traceback (most recent call last)",
      "\u001b[1;32m<ipython-input-4-e9ca8d0236fd>\u001b[0m in \u001b[0;36m<module>\u001b[1;34m()\u001b[0m\n\u001b[0;32m     73\u001b[0m         \u001b[1;32melif\u001b[0m \u001b[0ma\u001b[0m \u001b[1;33m==\u001b[0m \u001b[1;36m3\u001b[0m\u001b[1;33m:\u001b[0m      \u001b[1;31m# 3을 받으면\u001b[0m\u001b[1;33m\u001b[0m\u001b[0m\n\u001b[0;32m     74\u001b[0m             \u001b[1;32mbreak\u001b[0m         \u001b[1;31m# break를 통해 while문을 빠져나온다(메뉴 선택종료)\u001b[0m\u001b[1;33m\u001b[0m\u001b[0m\n\u001b[1;32m---> 75\u001b[1;33m \u001b[0mmain\u001b[0m\u001b[1;33m(\u001b[0m\u001b[1;33m)\u001b[0m\u001b[1;33m\u001b[0m\u001b[0m\n\u001b[0m",
      "\u001b[1;32m<ipython-input-4-e9ca8d0236fd>\u001b[0m in \u001b[0;36mmain\u001b[1;34m()\u001b[0m\n\u001b[0;32m     68\u001b[0m         \u001b[0ma\u001b[0m \u001b[1;33m=\u001b[0m \u001b[0mint\u001b[0m\u001b[1;33m(\u001b[0m\u001b[0minput\u001b[0m\u001b[1;33m(\u001b[0m\u001b[1;34m\"collect service\"\u001b[0m\u001b[1;33m)\u001b[0m\u001b[1;33m)\u001b[0m \u001b[1;31m# 이와 같은 메시지와 함께 메뉴를 선택하도록 함\u001b[0m\u001b[1;33m\u001b[0m\u001b[0m\n\u001b[0;32m     69\u001b[0m         \u001b[1;32mif\u001b[0m \u001b[0ma\u001b[0m \u001b[1;33m==\u001b[0m \u001b[1;36m1\u001b[0m\u001b[1;33m:\u001b[0m        \u001b[1;31m# 1을 받으면\u001b[0m\u001b[1;33m\u001b[0m\u001b[0m\n\u001b[1;32m---> 70\u001b[1;33m             \u001b[0msignup\u001b[0m\u001b[1;33m(\u001b[0m\u001b[1;33m)\u001b[0m      \u001b[1;31m# signup()함수 호출\u001b[0m\u001b[1;33m\u001b[0m\u001b[0m\n\u001b[0m\u001b[0;32m     71\u001b[0m         \u001b[1;32melif\u001b[0m \u001b[0ma\u001b[0m \u001b[1;33m==\u001b[0m \u001b[1;36m2\u001b[0m\u001b[1;33m:\u001b[0m      \u001b[1;31m# 2를 받으면\u001b[0m\u001b[1;33m\u001b[0m\u001b[0m\n\u001b[0;32m     72\u001b[0m             \u001b[0msignin\u001b[0m\u001b[1;33m(\u001b[0m\u001b[1;33m)\u001b[0m      \u001b[1;31m# signin()함수 호출\u001b[0m\u001b[1;33m\u001b[0m\u001b[0m\n",
      "\u001b[1;32m<ipython-input-4-e9ca8d0236fd>\u001b[0m in \u001b[0;36msignup\u001b[1;34m()\u001b[0m\n\u001b[0;32m     30\u001b[0m     \u001b[0mprint\u001b[0m\u001b[1;33m(\u001b[0m\u001b[1;34m\"\\n\"\u001b[0m\u001b[1;33m)\u001b[0m\u001b[1;33m\u001b[0m\u001b[0m\n\u001b[0;32m     31\u001b[0m     \u001b[0mf\u001b[0m \u001b[1;33m=\u001b[0m \u001b[0mopen\u001b[0m\u001b[1;33m(\u001b[0m\u001b[1;34m'access.txt'\u001b[0m\u001b[1;33m,\u001b[0m \u001b[1;34m'a'\u001b[0m\u001b[1;33m)\u001b[0m\u001b[1;33m\u001b[0m\u001b[0m\n\u001b[1;32m---> 32\u001b[1;33m     \u001b[0mf\u001b[0m\u001b[1;33m.\u001b[0m\u001b[0mwrite\u001b[0m\u001b[1;33m(\u001b[0m\u001b[1;34m\"--\"\u001b[0m\u001b[1;33m.\u001b[0m\u001b[0mjoin\u001b[0m\u001b[1;33m(\u001b[0m\u001b[0ml1\u001b[0m\u001b[1;33m)\u001b[0m\u001b[1;33m)\u001b[0m\u001b[1;33m\u001b[0m\u001b[0m\n\u001b[0m\u001b[0;32m     33\u001b[0m     \u001b[0mf\u001b[0m\u001b[1;33m.\u001b[0m\u001b[0mwrite\u001b[0m\u001b[1;33m(\u001b[0m\u001b[1;34m\"\\n\"\u001b[0m\u001b[1;33m)\u001b[0m\u001b[1;33m\u001b[0m\u001b[0m\n\u001b[0;32m     34\u001b[0m     \u001b[0mf\u001b[0m\u001b[1;33m.\u001b[0m\u001b[0mclose\u001b[0m\u001b[1;33m(\u001b[0m\u001b[1;33m)\u001b[0m\u001b[1;33m\u001b[0m\u001b[0m\n",
      "\u001b[1;31mTypeError\u001b[0m: sequence item 1: expected str instance, _hashlib.HASH found"
     ]
    }
   ],
   "source": [
    "import hashlib                      \n",
    "\n",
    "def service():\n",
    "    print (\"\\nWelcome to Our Service\\n\")\n",
    "    print (\"1. Sign Up\")\n",
    "    print (\"2. Sign In\")\n",
    "    print (\"3. Quit\\n\")\n",
    "\n",
    "def signup():\n",
    "    f = open('access.txt', 'a')\n",
    "    f.write(\"--------------------------\\n\")\n",
    "    f.close()\n",
    "    l1 =['','','','']\n",
    "    \n",
    "    l1[0] = str(input('ID :'))\n",
    "    f = open('access.txt', 'r')\n",
    "    line = f.readline()\n",
    "    for line in f:\n",
    "        if line.split('--')[0] == l1[0]:\n",
    "            print (\"Sorry, the entered ID is already used.\\n\")\n",
    "            l1[0] = str(input('ID:'))\n",
    "            f.seek(0)\n",
    "    f.close()\n",
    "    \n",
    "    l1[1] = str(input('PassWord:'))\n",
    "    l1[1] = hashlib.new(l1[1])\n",
    "    l1[1].hexdigest()\n",
    "    l1[2] = str(input('Name:'))\n",
    "    l1[3] = str(input('School:'))\n",
    "    print(\"\\n\")\n",
    "    f = open('access.txt', 'a')\n",
    "    f.write(\"--\".join(l1))\n",
    "    f.write(\"\\n\")\n",
    "    f.close()\n",
    "    \n",
    "def signin():\n",
    "    l2 = ['','','','']\n",
    "    \n",
    "    l2[0] = str(input('ID:'))\n",
    "    f = open('access.txt', 'r')\n",
    "    line = f.readline()\n",
    "    while line:\n",
    "        if line.split('--')[0] == l2[0]:\n",
    "            break\n",
    "        line = f.readline()\n",
    "        if line =='':\n",
    "            print (\"Sorry, you are not a registered member.\\n\")\n",
    "            l2[0] = str(input('ID:'))\n",
    "            f.seek(0)\n",
    "            line = f.readline()\n",
    "    \n",
    "    \n",
    "    while(True):\n",
    "        l2[1] = str(input('PassWord:'))\n",
    "        l2[1] = hashlib.new(l2[1])\n",
    "        l2[1].hexdigest()\n",
    "        if line.split('--')[1] == l2[1]:\n",
    "            print (unicode(\"Hi \" + l2[0])) \n",
    "            break\n",
    "        else :\n",
    "            print (\"Sorry, the entered password is not correct.\\n\")\n",
    "    f.close()\n",
    "    \n",
    "def main(): # main함수를 따로 정의해서 \n",
    "    while(True):\n",
    "        service() # 앞서 만든 service()함수를 통해 메뉴를 선택하게 하고\n",
    "        \n",
    "        a = int(input(\"collect service\")) # 이와 같은 메시지와 함께 메뉴를 선택하도록 함\n",
    "        if a == 1:        # 1을 받으면    \n",
    "            signup()      # signup()함수 호출\n",
    "        elif a == 2:      # 2를 받으면\n",
    "            signin()      # signin()함수 호출\n",
    "        elif a == 3:      # 3을 받으면\n",
    "            break         # break를 통해 while문을 빠져나온다(메뉴 선택종료)      \n",
    "main()"
   ]
  },
  {
   "cell_type": "code",
   "execution_count": 5,
   "metadata": {},
   "outputs": [
    {
     "ename": "ValueError",
     "evalue": "unsupported hash type asdfg123",
     "output_type": "error",
     "traceback": [
      "\u001b[1;31m---------------------------------------------------------------------------\u001b[0m",
      "\u001b[1;31mValueError\u001b[0m                                Traceback (most recent call last)",
      "\u001b[1;32mC:\\Users\\gywou\\Anaconda3\\lib\\hashlib.py\u001b[0m in \u001b[0;36m__hash_new\u001b[1;34m(name, data, **kwargs)\u001b[0m\n\u001b[0;32m    148\u001b[0m     \u001b[1;32mtry\u001b[0m\u001b[1;33m:\u001b[0m\u001b[1;33m\u001b[0m\u001b[0m\n\u001b[1;32m--> 149\u001b[1;33m         \u001b[1;32mreturn\u001b[0m \u001b[0m_hashlib\u001b[0m\u001b[1;33m.\u001b[0m\u001b[0mnew\u001b[0m\u001b[1;33m(\u001b[0m\u001b[0mname\u001b[0m\u001b[1;33m,\u001b[0m \u001b[0mdata\u001b[0m\u001b[1;33m)\u001b[0m\u001b[1;33m\u001b[0m\u001b[0m\n\u001b[0m\u001b[0;32m    150\u001b[0m     \u001b[1;32mexcept\u001b[0m \u001b[0mValueError\u001b[0m\u001b[1;33m:\u001b[0m\u001b[1;33m\u001b[0m\u001b[0m\n",
      "\u001b[1;31mValueError\u001b[0m: unsupported hash type",
      "\nDuring handling of the above exception, another exception occurred:\n",
      "\u001b[1;31mValueError\u001b[0m                                Traceback (most recent call last)",
      "\u001b[1;32m<ipython-input-5-8815e3bc902f>\u001b[0m in \u001b[0;36m<module>\u001b[1;34m()\u001b[0m\n\u001b[0;32m      2\u001b[0m \u001b[0mhasher\u001b[0m \u001b[1;33m=\u001b[0m \u001b[0mhashlib\u001b[0m\u001b[1;33m.\u001b[0m\u001b[0msha1\u001b[0m\u001b[1;33m(\u001b[0m\u001b[1;33m)\u001b[0m\u001b[1;33m\u001b[0m\u001b[0m\n\u001b[0;32m      3\u001b[0m \u001b[0mk\u001b[0m \u001b[1;33m=\u001b[0m \u001b[1;34m'asdfg123'\u001b[0m\u001b[1;33m\u001b[0m\u001b[0m\n\u001b[1;32m----> 4\u001b[1;33m \u001b[0mh\u001b[0m \u001b[1;33m=\u001b[0m \u001b[0mhashlib\u001b[0m\u001b[1;33m.\u001b[0m\u001b[0mnew\u001b[0m\u001b[1;33m(\u001b[0m\u001b[0mk\u001b[0m\u001b[1;33m)\u001b[0m\u001b[1;33m\u001b[0m\u001b[0m\n\u001b[0m\u001b[0;32m      5\u001b[0m \u001b[0mh\u001b[0m\u001b[1;33m.\u001b[0m\u001b[0mhexdigest\u001b[0m\u001b[1;33m(\u001b[0m\u001b[1;33m)\u001b[0m\u001b[1;33m\u001b[0m\u001b[0m\n\u001b[0;32m      6\u001b[0m \u001b[1;33m\u001b[0m\u001b[0m\n",
      "\u001b[1;32mC:\\Users\\gywou\\Anaconda3\\lib\\hashlib.py\u001b[0m in \u001b[0;36m__hash_new\u001b[1;34m(name, data, **kwargs)\u001b[0m\n\u001b[0;32m    153\u001b[0m         \u001b[1;31m# This allows for SHA224/256 and SHA384/512 support even though\u001b[0m\u001b[1;33m\u001b[0m\u001b[1;33m\u001b[0m\u001b[0m\n\u001b[0;32m    154\u001b[0m         \u001b[1;31m# the OpenSSL library prior to 0.9.8 doesn't provide them.\u001b[0m\u001b[1;33m\u001b[0m\u001b[1;33m\u001b[0m\u001b[0m\n\u001b[1;32m--> 155\u001b[1;33m         \u001b[1;32mreturn\u001b[0m \u001b[0m__get_builtin_constructor\u001b[0m\u001b[1;33m(\u001b[0m\u001b[0mname\u001b[0m\u001b[1;33m)\u001b[0m\u001b[1;33m(\u001b[0m\u001b[0mdata\u001b[0m\u001b[1;33m)\u001b[0m\u001b[1;33m\u001b[0m\u001b[0m\n\u001b[0m\u001b[0;32m    156\u001b[0m \u001b[1;33m\u001b[0m\u001b[0m\n\u001b[0;32m    157\u001b[0m \u001b[1;33m\u001b[0m\u001b[0m\n",
      "\u001b[1;32mC:\\Users\\gywou\\Anaconda3\\lib\\hashlib.py\u001b[0m in \u001b[0;36m__get_builtin_constructor\u001b[1;34m(name)\u001b[0m\n\u001b[0;32m    111\u001b[0m         \u001b[1;32mreturn\u001b[0m \u001b[0mconstructor\u001b[0m\u001b[1;33m\u001b[0m\u001b[0m\n\u001b[0;32m    112\u001b[0m \u001b[1;33m\u001b[0m\u001b[0m\n\u001b[1;32m--> 113\u001b[1;33m     \u001b[1;32mraise\u001b[0m \u001b[0mValueError\u001b[0m\u001b[1;33m(\u001b[0m\u001b[1;34m'unsupported hash type '\u001b[0m \u001b[1;33m+\u001b[0m \u001b[0mname\u001b[0m\u001b[1;33m)\u001b[0m\u001b[1;33m\u001b[0m\u001b[0m\n\u001b[0m\u001b[0;32m    114\u001b[0m \u001b[1;33m\u001b[0m\u001b[0m\n\u001b[0;32m    115\u001b[0m \u001b[1;33m\u001b[0m\u001b[0m\n",
      "\u001b[1;31mValueError\u001b[0m: unsupported hash type asdfg123"
     ]
    }
   ],
   "source": [
    "import hashlib\n",
    "hasher = hashlib.sha1()\n",
    "k = 'asdfg123'\n",
    "h = hashlib.new(k)\n",
    "h.hexdigest()\n",
    "\n",
    "print (h)"
   ]
  },
  {
   "cell_type": "markdown",
   "metadata": {},
   "source": [
    "- hash 관련모듈이 제대로 작동되지 않는데, 어떤 것이 문제인지 모르겠습니다.."
   ]
  },
  {
   "cell_type": "markdown",
   "metadata": {},
   "source": [
    "### [3번 문제]\n",
    "- range() 함수와 유사한 frange() 함수를 다음 조건을 참고하여 만드시오."
   ]
  },
  {
   "cell_type": "code",
   "execution_count": null,
   "metadata": {
    "collapsed": true
   },
   "outputs": [],
   "source": [
    "def frange(stop, start=0.0, step=0.1):  \n",
    "# 우선 frange함수를 정의한다.(start, stop, step의 3개의 인자를 가질 수 있다.)\n",
    "# 여기서 stop은 꼭 필요한 인자이므로 처음에 기술해주고, start와 step인자는 디폴트값으로 조건에서 기술한 값을 준다.\n",
    "    if stop < start:              # stop값이 start값보다 작으면\n",
    "        start, stop = stop,start  # stop과 start값을 바꿔준다.\n",
    "    if start < 0 or stop < 0 or step < 0: # 각 인자가 음수로 입력되면\n",
    "        print (\"음수를 사용할 수 없습니다.\")\n",
    "        return                    # 위와 같은 메시지와 함께 return 해준다.\n",
    "    a = []                        # a라는 변수에 빈 리스트를 할당해주고\n",
    "    while start < stop:           # start값이 stop보다 작을 때까지 while문을 이용해 반복.\n",
    "        a.append(round(start, 1)) # 실수값으로 하다보니 오차가 발생;; round함수를 이용해 반올림해준다.\n",
    "        start = start + step      # start값은 step을 계속 한번씩 더해준다.\n",
    "    return a"
   ]
  },
  {
   "cell_type": "code",
   "execution_count": null,
   "metadata": {
    "collapsed": true
   },
   "outputs": [],
   "source": [
    "frange(0.5)"
   ]
  },
  {
   "cell_type": "code",
   "execution_count": null,
   "metadata": {
    "collapsed": true
   },
   "outputs": [],
   "source": [
    "frange(1.0, 2.0)"
   ]
  },
  {
   "cell_type": "code",
   "execution_count": null,
   "metadata": {
    "collapsed": true
   },
   "outputs": [],
   "source": [
    "frange(2.2, 4.0, 0.5)"
   ]
  },
  {
   "cell_type": "markdown",
   "metadata": {},
   "source": [
    "### [4번 문제]\n",
    "- 가변인수를 받는 함수 sum()을 다음과 같은 조건을 참고하여 구현하시오"
   ]
  },
  {
   "cell_type": "code",
   "execution_count": null,
   "metadata": {
    "collapsed": true
   },
   "outputs": [],
   "source": [
    "def sum(*nums):         # *를 사용해 nums인자들을 받는 sum함수를 정의.\n",
    "    num = 0             # return 값으로 사용할 num변수에 우선 0을 넣는다. (즉 sum() 출력값은 0이 될 것)\n",
    "    for i in nums:      # for문을 사용해\n",
    "        num = num + i   # nums인자 갯수 만큼 num에 인자값들을 더해준다.\n",
    "    return num          # 마지막으로 num값을 return한다."
   ]
  },
  {
   "cell_type": "code",
   "execution_count": null,
   "metadata": {
    "collapsed": true
   },
   "outputs": [],
   "source": [
    "sum()"
   ]
  },
  {
   "cell_type": "code",
   "execution_count": null,
   "metadata": {
    "collapsed": true
   },
   "outputs": [],
   "source": [
    "sum(1,2)"
   ]
  },
  {
   "cell_type": "code",
   "execution_count": null,
   "metadata": {
    "collapsed": true
   },
   "outputs": [],
   "source": [
    "sum(1,2,3,4,5)"
   ]
  },
  {
   "cell_type": "code",
   "execution_count": null,
   "metadata": {
    "collapsed": true
   },
   "outputs": [],
   "source": [
    "sum(1,5,7,2,-10)"
   ]
  },
  {
   "cell_type": "markdown",
   "metadata": {},
   "source": [
    "### [5번 문제]\n",
    "- 여러 단어로 이루어진 문자열을 입력받아 각 단어의 첫글자로 이루어진 단어를 대문자로 출력하는 myinitial() 함수를 다음 조건을 참고하여 작성하시오."
   ]
  },
  {
   "cell_type": "code",
   "execution_count": null,
   "metadata": {
    "collapsed": true
   },
   "outputs": [],
   "source": [
    "def myinitial(string):               # 문자열(string)을 인자로 입력받는 myinitial함수를 정의.\n",
    "    a = string\n",
    "    a = a.split(' ')                 # 인자 string을 split함수를 이용해 공백별로 나눈다.\n",
    "    a = map(lambda x : x[0], a)      # lambda함수를 이용해 a리스트의 각 요소 첫번째 값을 map을 이용해 a변수에 저장한다.\n",
    "    a = \"\".join(a)                   # 이제 리스트 a의 요소들을 join을 이용해 묶는다.\n",
    "    \n",
    "    return a.upper()                 # 그리고 a를 upper()함수를 이용해 대문자로 바꾼 후에 return한다."
   ]
  },
  {
   "cell_type": "code",
   "execution_count": null,
   "metadata": {
    "collapsed": true
   },
   "outputs": [],
   "source": [
    "myinitial(\"hi my name is chanwoong\")"
   ]
  },
  {
   "cell_type": "code",
   "execution_count": null,
   "metadata": {
    "collapsed": true
   },
   "outputs": [],
   "source": [
    "myinitial(\"No pain no gain\")"
   ]
  },
  {
   "cell_type": "markdown",
   "metadata": {},
   "source": [
    "### [6번 문제]\n",
    "- 음이 아닌 정수 n를 입력받으면 n! (factorial)을 계산하는 myfact() 함수를 재귀적 함수로 구현하시오."
   ]
  },
  {
   "cell_type": "code",
   "execution_count": null,
   "metadata": {
    "collapsed": true
   },
   "outputs": [],
   "source": [
    "def myfact(num):                        # num을 인자로 받는 myfact()함수 정의\n",
    "    if num < 0:                         # 만약 인자값 num이 0보다 작으면 \n",
    "        print (\"음이 아닌 정수를 입력하세요\")\n",
    "        return                          # 위와 같은 메시지와 함께 return\n",
    "    if num == 0:                        # num의 값이 0이면\n",
    "        return 1                        # 0! = 1이므로 1을 return\n",
    "    elif num <= 2:                      # 0이나 음수가 아니고 num이 1이나 2이면 \n",
    "        return num                      # num을 return(1! = 1이고 2! = 2이기 때문)\n",
    "    else:                               # 만약 다 아니면\n",
    "        return num * myfact(num-1)      # 재귀적 함수 특징을 이용해 num*myfact(num-1)을 return!"
   ]
  },
  {
   "cell_type": "code",
   "execution_count": null,
   "metadata": {
    "collapsed": true
   },
   "outputs": [],
   "source": [
    "print (myfact(-1))"
   ]
  },
  {
   "cell_type": "code",
   "execution_count": null,
   "metadata": {
    "collapsed": true
   },
   "outputs": [],
   "source": [
    "print (myfact(0))"
   ]
  },
  {
   "cell_type": "code",
   "execution_count": null,
   "metadata": {
    "collapsed": true
   },
   "outputs": [],
   "source": [
    "print (myfact(1))"
   ]
  },
  {
   "cell_type": "code",
   "execution_count": null,
   "metadata": {
    "collapsed": true
   },
   "outputs": [],
   "source": [
    "print (myfact(2))"
   ]
  },
  {
   "cell_type": "code",
   "execution_count": null,
   "metadata": {
    "collapsed": true
   },
   "outputs": [],
   "source": [
    "print (myfact(5))"
   ]
  },
  {
   "cell_type": "code",
   "execution_count": null,
   "metadata": {
    "collapsed": true
   },
   "outputs": [],
   "source": [
    "print (myfact(800))"
   ]
  },
  {
   "cell_type": "markdown",
   "metadata": {},
   "source": [
    "### [7번 문제]\n",
    "- (서술형) import string 과 from string import * 의 차이점을 설명하시오."
   ]
  },
  {
   "cell_type": "markdown",
   "metadata": {},
   "source": [
    "import string의 경우, string 모듈을 불러온다는 의미로 이름공간 string이 그대로 유지되고 string.- 형태로 사용이 가능하다. 반면에 from string import * 의 경우 string 모듈 안의 지정 이름 즉 _ 로 시작되는 이름을 제외한 모든 이름을 불러온다는 것이다. 이때에는 불러들인 이름을 직접 참조 가능하며, string.-의 형태를 쓰지 않아도 된다."
   ]
  },
  {
   "cell_type": "markdown",
   "metadata": {
    "collapsed": true
   },
   "source": [
    "### [8번 문제]\n",
    "- 이전 Assignment 3의 마지막 문제는 웹 URL로 지정된 웹페이지를 문자열로 가져와 모든 HTML 태그 및 CSS와 Javascript를 제외한 순수 텍스트를 얻어내고 그 안에 존재하는 단어를 추출하여 각 단어들에 대해 출현빈도를 사전형태({'world': 2, 'hello': 1, 'python': 1})로 저장하여 출력하는 것이었다. 이번에는 Assignment 3를 확장하여 다음과 같은 조건을 만족하도록 구현하시오."
   ]
  },
  {
   "cell_type": "markdown",
   "metadata": {},
   "source": [
    "1) 다음 사이트에서 제시되는 영어 불용어 (Stop words)를 참고하여 이전 숙제에서 구성했던 단어 사전에서 영어 불용어들을 모두 제거하는 코드를 추가하시오.  \n",
    "2) 각 URL로 지정된 웹페이지의 HTML 소스를 파일로 저장하시오.  \n",
    "3) 단어의 출현빈도가 담긴 사전 객체를 위 HTML 소스 파일과 동일한 폴더에 파일로 저장하시오.  \n",
    "4) 최소 5개 이상의 영어 웹 사이트 각각에 대한 HTML 소스 파일과 단어 출현빈도 파일을 저장하시오.  \n",
    "5)  위 문제에서 저장한 모든 words.frequency 파일들을 객체로 다시 로드하여 본인이 저장하여 분석한 사이트들 각각에 대해서 가장 많이 출현한 단어 3개씩를 뽑아 제시하시오.  \n",
    "6) 간단한 검색엔진 코딩 (Like Google!!!)"
   ]
  },
  {
   "cell_type": "code",
   "execution_count": null,
   "metadata": {
    "collapsed": true
   },
   "outputs": [],
   "source": [
    "import string\n",
    "from urllib import request \n",
    "import pickle \n",
    "\n",
    "url = 'http://mlb.mlb.com'\n",
    "s = request.urlopen(url)\n",
    "source_bytes = s.read()\n",
    "source = source_bytes.decode('utf-8')\n",
    "\n",
    "f = open('mlb.mlb.com.html', 'w')\n",
    "f.write(source)\n",
    "f.close()\n",
    "\n",
    "f = open('mlb.mlb.com.html', 'r')\n",
    "source = f.read()\n",
    "f.close()\n",
    "\n",
    "\n",
    "puretext = \"\"                           #빈 문자열 생성\n",
    "\n",
    "i = 0\n",
    "while (i < len(source)):                #while문을 이용해 source 문자열의 길이만큼 반복 수행\n",
    "    if source[i] == '<':                #만약 '<'문자열을 만나면\n",
    "        while (source[i] != '>'):       #'>'이 다시 올 때 까지 아무 것도 안한 채 while문을 수행 \n",
    "            i = i + 1\n",
    "    elif source[i] == '\\n' :\n",
    "        puretext = puretext + ' '\n",
    "    else:\n",
    "        puretext = puretext + source[i] #그 외의 경우, puretext에 source[i]를 저장\n",
    "    i = i + 1\n",
    "\n",
    "for i in range(len(string.punctuation)):\n",
    "    puretext = puretext.replace(string.punctuation[i],\" \") #문자열의 구두문자들을 공백으로 바꿈\n",
    "\n",
    "puretext = puretext.split()         #구두문자에서 공백으로 바뀐 것들을 기준으로 puretext에 리스트로 저장\n",
    "#여기서 사전형태로 저장하기 전에 Assignment#4에서 요구하는 '불용어 제거' 단계를 거친다. (#4 - 요구사항 1)\n",
    "bulyong = ['A','a', 'and', 'are', 'as', 'at', 'be', 'but','But', 'by', 'for', 'if','If', 'in', 'into', 'is', 'it','It',\n",
    "           'no','No', 'not','Not', 'of', 'on', 'or', 's', 'such', 't', 'that','That', 'the','The', 'their','Their', \n",
    "           'then','Then', 'there','There', 'these','These', 'they','They', 'this','This', 'to', 'was', 'will', 'with']\n",
    "#위와 같이 bulyong이라는 변수에 리스트 형태로 불용어들을 집어넣는다.\n",
    "for i in range(len(bulyong)):  # for문을 이용해 불용어 전체를 하나씩 읽고\n",
    "    for j in range(len(puretext)): # 내부에 for문을 또 이용해 앞서 구두문자까지 제거한 puretext를 하나씩 읽는다.\n",
    "        if puretext[j] == bulyong[i]:\n",
    "            puretext[j] = \" \"  # 만약 puretext에 불용어가 포함되어 있으면 공백문자로 바꾼다.\n",
    "#위의 코드를 이용해 불용어까지 제거한 다음에 Assignment#3에서 만든 코드를 통해 사전형태로 저장한다.\n",
    "def textcount(puretext):\n",
    "    dic = dict()                        #빈 사전 생성\n",
    "    for a in puretext:                  \n",
    "        if a not in dic:                #만약 a가 사전에 아직 없을 경우\n",
    "            dic[a] = 1                  #a의 value를 1로 초기화\n",
    "        else:                           #그 외의 경우(사전에 있는 단어인 경우)\n",
    "            dic[a] = dic[a] + 1         #단어에 해당하는 value 값에 1을 더해줌\n",
    "    return dic\n",
    "\n",
    "puretext = textcount(puretext)    #위에서 정의한 '사전형태 저장'함수를 호출해서 puretext에 저장.\n",
    "#위의 코드까지가 Assignment#3에서 완료한 과제\n",
    "\n",
    "f = open('mlb.mlb.com.words.frequency.txt', 'wb')#단어 출현빈도가 담긴 사전객체 파일 저장(#4 - 요구사항 3)\n",
    "pickle.dump(puretext, f)                        #pickle 모듈의 dump를 이용해 객체의 변수와 open파일 객체를 각각 puretext, f로줌\n",
    "f.close()\n",
    "#그리고 마지막으로 요구사항 5를 만족하기 위해 billboard.com.words.frequency.txt 파일을 다시 로드한다.(최대 빈출단어 3개를 뽑기 위함)\n",
    "f = open('mlb.mlb.com.words.frequency.txt', 'rb')\n",
    "a1 = pickle.load(f)  # pickle모듈의 load를 이용해 로드한다.\n",
    "f.close()\n",
    "#위와 같이 순서대로 a1, a2, a3, a4, a5의 변수에 load한 사전 객체를 저장할 것."
   ]
  },
  {
   "cell_type": "code",
   "execution_count": null,
   "metadata": {
    "collapsed": true
   },
   "outputs": [],
   "source": [
    "import string\n",
    "from urllib import request \n",
    "import pickle \n",
    "\n",
    "url = 'http://www.nba.com'\n",
    "s = request.urlopen(url)\n",
    "source_bytes = s.read()\n",
    "source = source_bytes.decode('utf-8')\n",
    "\n",
    "f = open('nba.com.html', 'w')\n",
    "f.write(source)\n",
    "f.close()\n",
    "\n",
    "f = open('nba.com.html', 'r')\n",
    "source = f.read()\n",
    "f.close()\n",
    "\n",
    "\n",
    "puretext = \"\"                           #빈 문자열 생성\n",
    "\n",
    "i = 0\n",
    "while (i < len(source)):                #while문을 이용해 source 문자열의 길이만큼 반복 수행\n",
    "    if source[i] == '<':                #만약 '<'문자열을 만나면\n",
    "        while (source[i] != '>'):       #'>'이 다시 올 때 까지 아무 것도 안한 채 while문을 수행 \n",
    "            i = i + 1\n",
    "    elif source[i] == '\\n' :\n",
    "        puretext = puretext + ' '\n",
    "    else:\n",
    "        puretext = puretext + source[i] #그 외의 경우, puretext에 source[i]를 저장\n",
    "    i = i + 1\n",
    "\n",
    "for i in range(len(string.punctuation)):\n",
    "    puretext = puretext.replace(string.punctuation[i],\" \") #문자열의 구두문자들을 공백으로 바꿈\n",
    "\n",
    "puretext = puretext.split()         #구두문자에서 공백으로 바뀐 것들을 기준으로 puretext에 리스트로 저장\n",
    "#여기서 사전형태로 저장하기 전에 Assignment#4에서 요구하는 '불용어 제거' 단계를 거친다. (#4 - 요구사항 1)\n",
    "bulyong = ['A','a', 'and', 'are', 'as', 'at', 'be', 'but','But', 'by', 'for', 'if','If', 'in', 'into', 'is', 'it','It',\n",
    "           'no','No', 'not','Not', 'of', 'on', 'or', 's', 'such', 't', 'that','That', 'the','The', 'their','Their', \n",
    "           'then','Then', 'there','There', 'these','These', 'they','They', 'this','This', 'to', 'was', 'will', 'with']\n",
    "#위와 같이 bulyong이라는 변수에 리스트 형태로 불용어들을 집어넣는다.\n",
    "for i in range(len(bulyong)):  # for문을 이용해 불용어 전체를 하나씩 읽고\n",
    "    for j in range(len(puretext)): # 내부에 for문을 또 이용해 앞서 구두문자까지 제거한 puretext를 하나씩 읽는다.\n",
    "        if puretext[j] == bulyong[i]:\n",
    "            puretext[j] = \" \"  # 만약 puretext에 불용어가 포함되어 있으면 공백문자로 바꾼다.\n",
    "#위의 코드를 이용해 불용어까지 제거한 다음에 Assignment#3에서 만든 코드를 통해 사전형태로 저장한다.\n",
    "def textcount(puretext):\n",
    "    dic = dict()                        #빈 사전 생성\n",
    "    for a in puretext:                  \n",
    "        if a not in dic:                #만약 a가 사전에 아직 없을 경우\n",
    "            dic[a] = 1                  #a의 value를 1로 초기화\n",
    "        else:                           #그 외의 경우(사전에 있는 단어인 경우)\n",
    "            dic[a] = dic[a] + 1         #단어에 해당하는 value 값에 1을 더해줌\n",
    "    return dic\n",
    "\n",
    "puretext = textcount(puretext)    #위에서 정의한 '사전형태 저장'함수를 호출해서 puretext에 저장.\n",
    "#위의 코드까지가 Assignment#3에서 완료한 과제\n",
    "\n",
    "f = open('nba.com.words.frequency.txt', 'wb')#단어 출현빈도가 담긴 사전객체 파일 저장(#4 - 요구사항 3)\n",
    "pickle.dump(puretext, f)                        #pickle 모듈의 dump를 이용해 객체의 변수와 open파일 객체를 각각 puretext, f로줌\n",
    "f.close()\n",
    "#그리고 마지막으로 요구사항 5를 만족하기 위해 billboard.com.words.frequency.txt 파일을 다시 로드한다.(최대 빈출단어 3개를 뽑기 위함)\n",
    "f = open('nba.com.words.frequency.txt', 'rb')\n",
    "a2 = pickle.load(f)  # pickle모듈의 load를 이용해 로드한다.\n",
    "f.close()\n",
    "#위와 같이 순서대로 a1, a2, a3, a4, a5의 변수에 load한 사전 객체를 저장할 것."
   ]
  },
  {
   "cell_type": "code",
   "execution_count": null,
   "metadata": {
    "collapsed": true
   },
   "outputs": [],
   "source": [
    "import string\n",
    "from urllib import request \n",
    "import pickle \n",
    "\n",
    "url = 'http://billboard.com'\n",
    "s = request.urlopen(url)\n",
    "source_bytes = s.read()\n",
    "source = source_bytes.decode('utf-8')\n",
    "\n",
    "f = open('billboard.com.html', 'w')\n",
    "f.write(source)\n",
    "f.close()\n",
    "\n",
    "f = open('billboard.com.html', 'r')\n",
    "source = f.read()\n",
    "f.close()\n",
    "\n",
    "\n",
    "puretext = \"\"                           #빈 문자열 생성\n",
    "\n",
    "i = 0\n",
    "while (i < len(source)):                #while문을 이용해 source 문자열의 길이만큼 반복 수행\n",
    "    if source[i] == '<':                #만약 '<'문자열을 만나면\n",
    "        while (source[i] != '>'):       #'>'이 다시 올 때 까지 아무 것도 안한 채 while문을 수행 \n",
    "            i = i + 1\n",
    "    elif source[i] == '\\n' :\n",
    "        puretext = puretext + ' '\n",
    "    else:\n",
    "        puretext = puretext + source[i] #그 외의 경우, puretext에 source[i]를 저장\n",
    "    i = i + 1\n",
    "\n",
    "for i in range(len(string.punctuation)):\n",
    "    puretext = puretext.replace(string.punctuation[i],\" \") #문자열의 구두문자들을 공백으로 바꿈\n",
    "\n",
    "puretext = puretext.split()         #구두문자에서 공백으로 바뀐 것들을 기준으로 puretext에 리스트로 저장\n",
    "#여기서 사전형태로 저장하기 전에 Assignment#4에서 요구하는 '불용어 제거' 단계를 거친다. (#4 - 요구사항 1)\n",
    "bulyong = ['A','a', 'and', 'are', 'as', 'at', 'be', 'but','But', 'by', 'for', 'if','If', 'in', 'into', 'is', 'it','It',\n",
    "           'no','No', 'not','Not', 'of', 'on', 'or', 's', 'such', 't', 'that','That', 'the','The', 'their','Their', \n",
    "           'then','Then', 'there','There', 'these','These', 'they','They', 'this','This', 'to', 'was', 'will', 'with']\n",
    "#위와 같이 bulyong이라는 변수에 리스트 형태로 불용어들을 집어넣는다.\n",
    "for i in range(len(bulyong)):  # for문을 이용해 불용어 전체를 하나씩 읽고\n",
    "    for j in range(len(puretext)): # 내부에 for문을 또 이용해 앞서 구두문자까지 제거한 puretext를 하나씩 읽는다.\n",
    "        if puretext[j] == bulyong[i]:\n",
    "            puretext[j] = \" \"  # 만약 puretext에 불용어가 포함되어 있으면 공백문자로 바꾼다.\n",
    "#위의 코드를 이용해 불용어까지 제거한 다음에 Assignment#3에서 만든 코드를 통해 사전형태로 저장한다.\n",
    "def textcount(puretext):\n",
    "    dic = dict()                        #빈 사전 생성\n",
    "    for a in puretext:                  \n",
    "        if a not in dic:                #만약 a가 사전에 아직 없을 경우\n",
    "            dic[a] = 1                  #a의 value를 1로 초기화\n",
    "        else:                           #그 외의 경우(사전에 있는 단어인 경우)\n",
    "            dic[a] = dic[a] + 1         #단어에 해당하는 value 값에 1을 더해줌\n",
    "    return dic\n",
    "\n",
    "puretext = textcount(puretext)    #위에서 정의한 '사전형태 저장'함수를 호출해서 puretext에 저장.\n",
    "#위의 코드까지가 Assignment#3에서 완료한 과제\n",
    "\n",
    "f = open('billboard.com.words.frequency.txt', 'wb')#단어 출현빈도가 담긴 사전객체 파일 저장(#4 - 요구사항 3)\n",
    "pickle.dump(puretext, f)                        #pickle 모듈의 dump를 이용해 객체의 변수와 open파일 객체를 각각 puretext, f로줌\n",
    "f.close()\n",
    "#그리고 마지막으로 요구사항 5를 만족하기 위해 billboard.com.words.frequency.txt 파일을 다시 로드한다.(최대 빈출단어 3개를 뽑기 위함)\n",
    "f = open('billboard.com.words.frequency.txt', 'rb')\n",
    "a3 = pickle.load(f)  # pickle모듈의 load를 이용해 로드한다.\n",
    "f.close()\n",
    "#위와 같이 순서대로 a1, a2, a3, a4, a5의 변수에 load한 사전 객체를 저장할 것."
   ]
  },
  {
   "cell_type": "code",
   "execution_count": null,
   "metadata": {
    "collapsed": true
   },
   "outputs": [],
   "source": [
    "import string\n",
    "from urllib import request \n",
    "import pickle \n",
    "\n",
    "url = 'http://mit.edu'\n",
    "s = request.urlopen(url)\n",
    "source_bytes = s.read()\n",
    "source = source_bytes.decode('utf-8')\n",
    "\n",
    "f = open('mit.html', 'w')\n",
    "f.write(source)\n",
    "f.close()\n",
    "\n",
    "f = open('mit.html', 'r')\n",
    "source = f.read()\n",
    "f.close()\n",
    "\n",
    "\n",
    "puretext = \"\"                           #빈 문자열 생성\n",
    "\n",
    "i = 0\n",
    "while (i < len(source)):                #while문을 이용해 source 문자열의 길이만큼 반복 수행\n",
    "    if source[i] == '<':                #만약 '<'문자열을 만나면\n",
    "        while (source[i] != '>'):       #'>'이 다시 올 때 까지 아무 것도 안한 채 while문을 수행 \n",
    "            i = i + 1\n",
    "    elif source[i] == '\\n' :\n",
    "        puretext = puretext + ' '\n",
    "    else:\n",
    "        puretext = puretext + source[i] #그 외의 경우, puretext에 source[i]를 저장\n",
    "    i = i + 1\n",
    "\n",
    "for i in range(len(string.punctuation)):\n",
    "    puretext = puretext.replace(string.punctuation[i],\" \") #문자열의 구두문자들을 공백으로 바꿈\n",
    "\n",
    "puretext = puretext.split()         #구두문자에서 공백으로 바뀐 것들을 기준으로 puretext에 리스트로 저장\n",
    "#여기서 사전형태로 저장하기 전에 Assignment#4에서 요구하는 '불용어 제거' 단계를 거친다. (#4 - 요구사항 1)\n",
    "bulyong = ['A','a', 'and', 'are', 'as', 'at', 'be', 'but','But', 'by', 'for', 'if','If', 'in', 'into', 'is', 'it','It',\n",
    "           'no','No', 'not','Not', 'of', 'on', 'or', 's', 'such', 't', 'that','That', 'the','The', 'their','Their', \n",
    "           'then','Then', 'there','There', 'these','These', 'they','They', 'this','This', 'to', 'was', 'will', 'with']\n",
    "#위와 같이 bulyong이라는 변수에 리스트 형태로 불용어들을 집어넣는다.\n",
    "for i in range(len(bulyong)):  # for문을 이용해 불용어 전체를 하나씩 읽고\n",
    "    for j in range(len(puretext)): # 내부에 for문을 또 이용해 앞서 구두문자까지 제거한 puretext를 하나씩 읽는다.\n",
    "        if puretext[j] == bulyong[i]:\n",
    "            puretext[j] = \" \"  # 만약 puretext에 불용어가 포함되어 있으면 공백문자로 바꾼다.\n",
    "#위의 코드를 이용해 불용어까지 제거한 다음에 Assignment#3에서 만든 코드를 통해 사전형태로 저장한다.\n",
    "def textcount(puretext):\n",
    "    dic = dict()                        #빈 사전 생성\n",
    "    for a in puretext:                  \n",
    "        if a not in dic:                #만약 a가 사전에 아직 없을 경우\n",
    "            dic[a] = 1                  #a의 value를 1로 초기화\n",
    "        else:                           #그 외의 경우(사전에 있는 단어인 경우)\n",
    "            dic[a] = dic[a] + 1         #단어에 해당하는 value 값에 1을 더해줌\n",
    "    return dic\n",
    "\n",
    "puretext = textcount(puretext)    #위에서 정의한 '사전형태 저장'함수를 호출해서 puretext에 저장.\n",
    "#위의 코드까지가 Assignment#3에서 완료한 과제\n",
    "\n",
    "f = open('mit.edu.words.frequency.txt', 'wb')#단어 출현빈도가 담긴 사전객체 파일 저장(#4 - 요구사항 3)\n",
    "pickle.dump(puretext, f)                        #pickle 모듈의 dump를 이용해 객체의 변수와 open파일 객체를 각각 puretext, f로줌\n",
    "f.close()\n",
    "#그리고 마지막으로 요구사항 5를 만족하기 위해 billboard.com.words.frequency.txt 파일을 다시 로드한다.(최대 빈출단어 3개를 뽑기 위함)\n",
    "f = open('mit.edu.words.frequency.txt', 'rb')\n",
    "a4 = pickle.load(f)  # pickle모듈의 load를 이용해 로드한다.\n",
    "f.close()\n",
    "#위와 같이 순서대로 a1, a2, a3, a4, a5의 변수에 load한 사전 객체를 저장할 것."
   ]
  },
  {
   "cell_type": "code",
   "execution_count": null,
   "metadata": {
    "collapsed": true
   },
   "outputs": [],
   "source": [
    "import string\n",
    "from urllib import request \n",
    "import pickle \n",
    "\n",
    "url = 'http://www.oxforddictionaries.com'\n",
    "s = request.urlopen(url)\n",
    "source_bytes = s.read()\n",
    "source = source_bytes.decode('utf-8')\n",
    "\n",
    "f = open('oxforddictionaries.com.html', 'w')\n",
    "f.write(source)\n",
    "f.close()\n",
    "\n",
    "f = open('oxforddictionaries.com.html', 'r')\n",
    "source = f.read()\n",
    "f.close()\n",
    "\n",
    "\n",
    "puretext = \"\"                           #빈 문자열 생성\n",
    "\n",
    "i = 0\n",
    "while (i < len(source)):                #while문을 이용해 source 문자열의 길이만큼 반복 수행\n",
    "    if source[i] == '<':                #만약 '<'문자열을 만나면\n",
    "        while (source[i] != '>'):       #'>'이 다시 올 때 까지 아무 것도 안한 채 while문을 수행 \n",
    "            i = i + 1\n",
    "    elif source[i] == '\\n' :\n",
    "        puretext = puretext + ' '\n",
    "    else:\n",
    "        puretext = puretext + source[i] #그 외의 경우, puretext에 source[i]를 저장\n",
    "    i = i + 1\n",
    "\n",
    "for i in range(len(string.punctuation)):\n",
    "    puretext = puretext.replace(string.punctuation[i],\" \") #문자열의 구두문자들을 공백으로 바꿈\n",
    "\n",
    "puretext = puretext.split()         #구두문자에서 공백으로 바뀐 것들을 기준으로 puretext에 리스트로 저장\n",
    "#여기서 사전형태로 저장하기 전에 Assignment#4에서 요구하는 '불용어 제거' 단계를 거친다. (#4 - 요구사항 1)\n",
    "bulyong = ['A','a', 'and', 'are', 'as', 'at', 'be', 'but','But', 'by', 'for', 'if','If', 'in', 'into', 'is', 'it','It',\n",
    "           'no','No', 'not','Not', 'of', 'on', 'or', 's', 'such', 't', 'that','That', 'the','The', 'their','Their', \n",
    "           'then','Then', 'there','There', 'these','These', 'they','They', 'this','This', 'to', 'was', 'will', 'with']\n",
    "#위와 같이 bulyong이라는 변수에 리스트 형태로 불용어들을 집어넣는다.\n",
    "for i in range(len(bulyong)):  # for문을 이용해 불용어 전체를 하나씩 읽고\n",
    "    for j in range(len(puretext)): # 내부에 for문을 또 이용해 앞서 구두문자까지 제거한 puretext를 하나씩 읽는다.\n",
    "        if puretext[j] == bulyong[i]:\n",
    "            puretext[j] = \" \"  # 만약 puretext에 불용어가 포함되어 있으면 공백문자로 바꾼다.\n",
    "#위의 코드를 이용해 불용어까지 제거한 다음에 Assignment#3에서 만든 코드를 통해 사전형태로 저장한다.\n",
    "def textcount(puretext):\n",
    "    dic = dict()                        #빈 사전 생성\n",
    "    for a in puretext:                  \n",
    "        if a not in dic:                #만약 a가 사전에 아직 없을 경우\n",
    "            dic[a] = 1                  #a의 value를 1로 초기화\n",
    "        else:                           #그 외의 경우(사전에 있는 단어인 경우)\n",
    "            dic[a] = dic[a] + 1         #단어에 해당하는 value 값에 1을 더해줌\n",
    "    return dic\n",
    "\n",
    "puretext = textcount(puretext)    #위에서 정의한 '사전형태 저장'함수를 호출해서 puretext에 저장.\n",
    "#위의 코드까지가 Assignment#3에서 완료한 과제\n",
    "\n",
    "f = open('oxforddictionaries.com.words.frequency.txt', 'wb')#단어 출현빈도가 담긴 사전객체 파일 저장(#4 - 요구사항 3)\n",
    "pickle.dump(puretext, f)                        #pickle 모듈의 dump를 이용해 객체의 변수와 open파일 객체를 각각 puretext, f로줌\n",
    "f.close()\n",
    "#그리고 마지막으로 요구사항 5를 만족하기 위해 billboard.com.words.frequency.txt 파일을 다시 로드한다.(최대 빈출단어 3개를 뽑기 위함)\n",
    "f = open('oxforddictionaries.com.words.frequency.txt', 'rb')\n",
    "a5 = pickle.load(f)  # pickle모듈의 load를 이용해 로드한다.\n",
    "f.close()\n",
    "#위와 같이 순서대로 a1, a2, a3, a4, a5의 변수에 load한 사전 객체를 저장할 것."
   ]
  },
  {
   "cell_type": "code",
   "execution_count": null,
   "metadata": {
    "collapsed": true
   },
   "outputs": [],
   "source": [
    "best3 = dict()\n",
    "for a in a1:\n",
    "    best3[a] = a1[a]   # 우선 가장 처음에 삽입할 mlb사이트는 그대로 넣고\n",
    "for a in a2:\n",
    "    if a in best3:           #다음 사이트부터는 키값을 검사해서 이미 있으면\n",
    "        best3[a] = best3[a] + a2[a]#추가로 단어 회수를 늘리고\n",
    "    else:\n",
    "        best3[a] = a2[a]           #처음 나오는 단어는 그냥 넣는다. 이제 5개의 사이트를 이렇게 반복한다. \n",
    "for a in a3:\n",
    "    if a in best3:           #다음 사이트부터는 키값을 검사해서 이미 있으면\n",
    "        best3[a] = best3[a] + a3[a]#추가로 단어 회수를 늘리고\n",
    "    else:\n",
    "        best3[a] = a3[a]           #처음 나오는 단어는 그냥 넣는다. 이제 5개의 사이트를 이렇게 반복한다. \n",
    "for a in a4:\n",
    "    if a in best3:           #다음 사이트부터는 키값을 검사해서 이미 있으면\n",
    "        best3[a] = best3[a] + a4[a]#추가로 단어 회수를 늘리고\n",
    "    else:\n",
    "        best3[a] = a4[a]           #처음 나오는 단어는 그냥 넣는다. 이제 5개의 사이트를 이렇게 반복한다. \n",
    "for a in a5:\n",
    "    if a in best3:           #다음 사이트부터는 키값을 검사해서 이미 있으면\n",
    "        best3[a] = best3[a] + a5[a]#추가로 단어 회수를 늘리고\n",
    "    else:\n",
    "        best3[a] = a5[a]           #처음 나오는 단어는 그냥 넣는다. 이제 5개의 사이트를 이렇게 반복한다. \n",
    "items = list(best3.items())\n",
    "items.sort(key = lambda x:x[1], reverse = True)\n",
    "for a in range(1,4) :  \n",
    "# 여기서 0번째 인덱스를 포함하지 않은 이유는 이번 과제를 수행하면서 영어 불용어들을 제거할 때 불용어가 나오면 ' '이와같이 공백을 \n",
    "# 주도록 했는데 그래서 공백이 가장 많이 출력된 단어였다.\n",
    "# 이를 방지하기 위해 1,4까지 range를 하여 공백을 제외하고 가장 빈출이 높은 단어 3개를 사전 형태로 출력했다.\n",
    "    print (items[a])"
   ]
  },
  {
   "cell_type": "markdown",
   "metadata": {},
   "source": [
    "### [필수 사항]\n",
    "- 위에서 만든 검색엔진 코딩은 매우 간단한 것이라 부족한 점이 많이 존재한다.\n",
    "본인이 생각하기에 상업적인 완성도 높은 검색 로봇/엔진이 되려면 어떤 기능들이 추가적으로 구현되어야 할지 최소 3가지 이상 제시하시오."
   ]
  },
  {
   "cell_type": "markdown",
   "metadata": {},
   "source": [
    "Sol)   \n",
    "    1) 우선 검색을 잘못한 경우를 대비해서 자동으로 맞춤법을 수정해주는 코드가 필요하다. (사람들이 잘못한 검색 이후 입력한 수정 단어들을 기억하고 이를 자동으로 수정해서 검색을 다시해주는 기능)  \n",
    "    2) 이미지의 정보를 읽어서 이미지를 가지고 유사한 이미지들이 나오도록 검색이 가능하도록 한다.  \n",
    "    3) 사용자의 요구사항을 보다 정확히 받아들이도록 하는 기능이 필요하다.\n",
    "        (예를 들어 가수이름과 이에 더해 패션을 함께 검색하면 해당가수에 대한 앨범등의 정보보다는 해당 가수의 패션에 대한 정보들\n",
    "        이 우선순위를 가지도록 하는 것이다. 이와 같이 메인 검색어에 더해 부가적인 검색어도 사용할 수 있도록 함이 좋아보인다.)"
   ]
  },
  {
   "cell_type": "markdown",
   "metadata": {},
   "source": [
    "### [느낀점]\n",
    "- 2주 이상의 긴 시간이 주어졌고 다른 회차의 과제보다도 비중을 둬서 꾸준히 과제를 수행했지만 전에 비해 많이 어려워짐과 동시에 과제의 정도가 너무 많아 정말 오랜 시간이 걸렸습니다. 2번 문제의 경우, sha 라는 라이브러리가 hashlib으로 python3부터 병합이 되었는데, 문제 아래에 모듈 활용 예를 참고하여 해봐도 계속해서 암호화가 실행되지 않습니다. 인터넷을 찾아 보아도 무슨 문제인지 모르겠습니다.. 감사합니다"
   ]
  }
 ],
 "metadata": {
  "kernelspec": {
   "display_name": "Python 3",
   "language": "python",
   "name": "python3"
  },
  "language_info": {
   "codemirror_mode": {
    "name": "ipython",
    "version": 3
   },
   "file_extension": ".py",
   "mimetype": "text/x-python",
   "name": "python",
   "nbconvert_exporter": "python",
   "pygments_lexer": "ipython3",
   "version": "3.6.1"
  }
 },
 "nbformat": 4,
 "nbformat_minor": 2
}
