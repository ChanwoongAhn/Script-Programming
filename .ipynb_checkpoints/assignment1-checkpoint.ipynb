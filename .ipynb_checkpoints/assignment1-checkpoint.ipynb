{
 "cells": [
  {
   "cell_type": "markdown",
   "metadata": {},
   "source": [
    "### 1번 문제\n",
    "- a=\"Hello Python\" 문자열을 Slicing과 연결 연산자 (+)를 사용하여 \"Python Hello\"로 변경하시오.\n",
    "  - [주의] a 변수 자체에 \"Python Hello\" 문자열이 저장되어야 함"
   ]
  },
  {
   "cell_type": "code",
   "execution_count": 1,
   "metadata": {},
   "outputs": [
    {
     "name": "stdout",
     "output_type": "stream",
     "text": [
      "Python Hello\n"
     ]
    }
   ],
   "source": [
    "a = \"Hello Python\"\n",
    "a = a[6:] + \" \" + a[:5]\n",
    "print(a)"
   ]
  },
  {
   "cell_type": "markdown",
   "metadata": {},
   "source": [
    "변수 a에 \"Hello Python\"이라는 문자열을 저장하고, slicing을 사용하여 변수 a에 먼저 Python, 그 다음 공백, Hello 을 저장한다"
   ]
  },
  {
   "cell_type": "markdown",
   "metadata": {},
   "source": [
    "### 2번 문제\n",
    "- b=\"Hello Python World\" 문자열을 Slicing과 연결 연산자 (+)를 사용하여 \"World Python Hello\"로 변경하시오.\n",
    "  - [주의] b 변수 자체에 \"Python Hello\" 문자열이 저장되어야 함"
   ]
  },
  {
   "cell_type": "code",
   "execution_count": 2,
   "metadata": {},
   "outputs": [
    {
     "name": "stdout",
     "output_type": "stream",
     "text": [
      "World Python Hello\n"
     ]
    }
   ],
   "source": [
    "b = \"Hello Python World\"\n",
    "b = b[13:] + \" \" + b[6:12] + \" \" + b[:5]\n",
    "print(b)"
   ]
  },
  {
   "cell_type": "markdown",
   "metadata": {},
   "source": [
    "1번 문제와 같은 방식으로, slicing을 사용하여 문자열을 자른 후, 다시 순서를 달리하여 결합시켜 \"World Python Hello\"라는 문자열로 초기화 시킨다."
   ]
  },
  {
   "cell_type": "markdown",
   "metadata": {},
   "source": [
    "### 3번 문제\n",
    "- c=\"Hello\"를 \"olleH\"로 변경하시오\n",
    "  - [주의] c 변수 자체에 \"olleH\" 문자열이 저장되어야 함"
   ]
  },
  {
   "cell_type": "code",
   "execution_count": 3,
   "metadata": {},
   "outputs": [
    {
     "name": "stdout",
     "output_type": "stream",
     "text": [
      "olleH\n"
     ]
    }
   ],
   "source": [
    "c = \"Hello\"\n",
    "c = c[::-1]\n",
    "print(c)"
   ]
  },
  {
   "cell_type": "markdown",
   "metadata": {},
   "source": [
    "\"Hello\"라는 문자열이 저장 되어 있는 c 변수에 slicing을 사용하여 문자열 마지막 부터 다시 역순으로 다시 초기화 시킨다. 슬라이싱에서 [::]의 마지막 값에 음수값을 넣으면, 문자열 앞에서 부터의 순서가 아닌, 맨 마지막 부터의 순서로 호출이 된다."
   ]
  },
  {
   "cell_type": "markdown",
   "metadata": {},
   "source": [
    "### 4번 문제\n",
    "- s=\"python\"에 대해 다음 문제를 풀어보시오.\n",
    "  1. s[0], s[0][0], s[0][0][0]은 각각 어떤 값이 나오는지 확인하고 그 이유를 나름대로 설명해 보시오."
   ]
  },
  {
   "cell_type": "code",
   "execution_count": 12,
   "metadata": {},
   "outputs": [
    {
     "name": "stdout",
     "output_type": "stream",
     "text": [
      "s[0] : p\n",
      "s[0][0] : p\n",
      "s[0][0][0] : p\n"
     ]
    }
   ],
   "source": [
    "s = \"python\"\n",
    "print (\"s[0] : \" + s[0])\n",
    "print (\"s[0][0] : \" + s[0][0])\n",
    "print (\"s[0][0][0] : \" + s[0][0][0])\n"
   ]
  },
  {
   "cell_type": "markdown",
   "metadata": {},
   "source": [
    "s[0]은 \"python\"이라는 문자열의 첫번째 원소 값을 의미함.\n",
    "마찬가지로 s[0][0]도 2차원 문자열이긴 하나, s[0]과 같이 첫번째 원소 값을 의미하므로 s[0]과 같은 값이 나옴. s[0][0][0]도 같은 원리로 s[0]과 같은 원소 값을 가리키므로 s[0]과 같은 값이 나온다. 하지만 s[0][1], s[0][0][1]은 1차원으로 선언된 s 문자열에서 아무 값도 가리키지 않고 값도 없으므로 컴파일시 오류가 난다."
   ]
  },
  {
   "cell_type": "markdown",
   "metadata": {},
   "source": [
    "    2. s[-100], s[100]은 값이 나오는지 에러가 나오는지 확인하고 그 결과에 대한 이유를 나름대로 설명해 보시오."
   ]
  },
  {
   "cell_type": "code",
   "execution_count": 10,
   "metadata": {},
   "outputs": [
    {
     "ename": "IndexError",
     "evalue": "string index out of range",
     "output_type": "error",
     "traceback": [
      "\u001b[1;31m---------------------------------------------------------------------------\u001b[0m",
      "\u001b[1;31mIndexError\u001b[0m                                Traceback (most recent call last)",
      "\u001b[1;32m<ipython-input-10-5a1e61110d5e>\u001b[0m in \u001b[0;36m<module>\u001b[1;34m()\u001b[0m\n\u001b[0;32m      1\u001b[0m \u001b[0ms\u001b[0m \u001b[1;33m=\u001b[0m \u001b[1;34m\"python\"\u001b[0m\u001b[1;33m\u001b[0m\u001b[0m\n\u001b[0;32m      2\u001b[0m \u001b[1;33m\u001b[0m\u001b[0m\n\u001b[1;32m----> 3\u001b[1;33m \u001b[0mprint\u001b[0m \u001b[1;33m(\u001b[0m\u001b[1;34m\"s[-100] : \"\u001b[0m \u001b[1;33m+\u001b[0m\u001b[0ms\u001b[0m\u001b[1;33m[\u001b[0m\u001b[1;33m-\u001b[0m\u001b[1;36m100\u001b[0m\u001b[1;33m]\u001b[0m\u001b[1;33m)\u001b[0m\u001b[1;33m\u001b[0m\u001b[0m\n\u001b[0m\u001b[0;32m      4\u001b[0m \u001b[0mprint\u001b[0m \u001b[1;33m(\u001b[0m\u001b[1;34m\"s[100] : \"\u001b[0m \u001b[1;33m+\u001b[0m \u001b[0ms\u001b[0m\u001b[1;33m[\u001b[0m\u001b[1;36m100\u001b[0m\u001b[1;33m]\u001b[0m\u001b[1;33m)\u001b[0m\u001b[1;33m\u001b[0m\u001b[0m\n",
      "\u001b[1;31mIndexError\u001b[0m: string index out of range"
     ]
    }
   ],
   "source": [
    "s = \"python\"\n",
    "\n",
    "print (\"s[-100] : \" +s[-100])\n",
    "print (\"s[100] : \" + s[100])"
   ]
  },
  {
   "cell_type": "markdown",
   "metadata": {},
   "source": [
    "문자열에서 원소값 앞에 -가 붙어 있는 것은 문자열의 0번째를 기준으로의 차례가 아닌, 뒤에서 부터의 차례를 나타낸다. 즉, 위 코드에서 s[-1] = n, s[-2] = o를 의미한다. 하지만 위의 문자열 s 에서는 문자열의 총 길이가 6 이므로, 최대 6에 해당하는 인덱스 값 5, -5를 넘어가면 문자열에 할당된 값이 없으므로 에러가 나오게 된다."
   ]
  },
  {
   "cell_type": "markdown",
   "metadata": {},
   "source": [
    "    3. s[-100, 100]은 값이 나오는지 에러가 나오는지 확인하고 그 결과에 대한 이유를 나름대로 설명해 보시오."
   ]
  },
  {
   "cell_type": "code",
   "execution_count": 14,
   "metadata": {},
   "outputs": [
    {
     "ename": "TypeError",
     "evalue": "string indices must be integers",
     "output_type": "error",
     "traceback": [
      "\u001b[1;31m---------------------------------------------------------------------------\u001b[0m",
      "\u001b[1;31mTypeError\u001b[0m                                 Traceback (most recent call last)",
      "\u001b[1;32m<ipython-input-14-10c95586a4d5>\u001b[0m in \u001b[0;36m<module>\u001b[1;34m()\u001b[0m\n\u001b[0;32m      1\u001b[0m \u001b[0ms\u001b[0m \u001b[1;33m=\u001b[0m \u001b[1;34m\"python\"\u001b[0m\u001b[1;33m\u001b[0m\u001b[0m\n\u001b[0;32m      2\u001b[0m \u001b[1;33m\u001b[0m\u001b[0m\n\u001b[1;32m----> 3\u001b[1;33m \u001b[0mprint\u001b[0m \u001b[1;33m(\u001b[0m\u001b[1;34m\"s[-100, 100] : \"\u001b[0m \u001b[1;33m+\u001b[0m\u001b[0ms\u001b[0m\u001b[1;33m[\u001b[0m\u001b[1;33m-\u001b[0m\u001b[1;36m1\u001b[0m\u001b[1;33m,\u001b[0m \u001b[1;36m1\u001b[0m\u001b[1;33m]\u001b[0m\u001b[1;33m)\u001b[0m\u001b[1;33m\u001b[0m\u001b[0m\n\u001b[0m",
      "\u001b[1;31mTypeError\u001b[0m: string indices must be integers"
     ]
    }
   ],
   "source": [
    "s = \"python\"\n",
    "\n",
    "print (\"s[-100, 100] : \" +s[-100, 100])"
   ]
  },
  {
   "cell_type": "markdown",
   "metadata": {},
   "source": [
    "문자열에서 대괄호 안의 인덱스 값은 정수로써 하나의 값만 입력되어야 한다. 하지만 위의 s[-100, 100]은 인덱스가 하나의 정수값이 아니므로 에러가 발생하는 것이다."
   ]
  },
  {
   "cell_type": "markdown",
   "metadata": {},
   "source": [
    "    4. s[1:-1]의 결과를 확인하고 그 결과에 대한 이유를 정확하게 설명하시오."
   ]
  },
  {
   "cell_type": "code",
   "execution_count": 15,
   "metadata": {},
   "outputs": [
    {
     "name": "stdout",
     "output_type": "stream",
     "text": [
      "s[1:-1] : ytho\n"
     ]
    }
   ],
   "source": [
    "s = \"python\"\n",
    "\n",
    "print (\"s[1:-1] : \" + s[1:-1])"
   ]
  },
  {
   "cell_type": "markdown",
   "metadata": {},
   "source": [
    "위와 같은 자료형은, 문자열에 대한 슬라이싱으로 [시작값 : 마지막값 : 간격] 으로 정의된다. 시작값의 디폴트 값은 0 즉, 문자열의 맨 처음 요소이며, 마지막 값의 디폴트 값은 문자열의 맨 마지막 요소의 다음 요소를 가리키는데, 입력한 마지막값은 포함되지 않는다. 위에서 s[1:-1] 은 두번째 요소 부터 -1번째 요소 앞의 원소까지를 슬라이싱 하는 구문으로, 두번째 요소인 y 부터 -1번째 요소인 n의 앞인 o 까지 ytho가 슬라이싱 되는 것이다. "
   ]
  },
  {
   "cell_type": "markdown",
   "metadata": {},
   "source": [
    "    5. s[3:-3]의 결과를 확인하고 그 결과에 대한 이유를 정확하게 설명하시오.\n"
   ]
  },
  {
   "cell_type": "code",
   "execution_count": 16,
   "metadata": {},
   "outputs": [
    {
     "name": "stdout",
     "output_type": "stream",
     "text": [
      "s[3:-3] : \n"
     ]
    }
   ],
   "source": [
    "s = \"python\"\n",
    "\n",
    "print (\"s[3:-3] : \" + s[3:-3])"
   ]
  },
  {
   "cell_type": "markdown",
   "metadata": {},
   "source": [
    "위의 4번 문제와 같이, s[3:-3]은 s 문자열의 4번째 요소인 h 부터 -3번째 요소의 앞인 t까지를 슬라이싱 하는 구문이다. 하지만 -3번째 요소를 앞에서 부터 자리값을 매겼을 때, 4번째 요소인 h가 되는데 위의 구문을 보면 4번째 요소 부터 4번째 요소 까지 슬라이싱을 하는 것인데, 마지막값은 포함되지 않으므로 아무 값도 출력되지 않는 것이다. "
   ]
  },
  {
   "cell_type": "markdown",
   "metadata": {},
   "source": [
    "### 5번 문제\n",
    "- for문을 활용하여 1부터 100사이의 홀수를 출력하시오."
   ]
  },
  {
   "cell_type": "code",
   "execution_count": 5,
   "metadata": {},
   "outputs": [
    {
     "name": "stdout",
     "output_type": "stream",
     "text": [
      "1 3 5 7 9 11 13 15 17 19 21 23 25 27 29 31 33 35 37 39 41 43 45 47 49 51 53 55 57 59 61 63 65 67 69 71 73 75 77 79 81 83 85 87 89 91 93 95 97 99 "
     ]
    }
   ],
   "source": [
    "for x in range(100) :\n",
    "    if x%2 != 0 :\n",
    "        print (x, end= \" \")"
   ]
  },
  {
   "cell_type": "markdown",
   "metadata": {},
   "source": [
    "홀수를 출력하기 위해, 홀수는 값을 2로 나누었을 때 항상 나머지가 1이 나온다는 것을 이용하여 if 구문을 사용하여 값의 나머지 값이 1이면 그 값을 출력하도록 프로그래밍 한다."
   ]
  },
  {
   "cell_type": "markdown",
   "metadata": {},
   "source": [
    "### 6번 문제\n",
    "- while문을 활용하여 1부터 100사이의 짝수의 합을 계산하여 출력하시오."
   ]
  },
  {
   "cell_type": "code",
   "execution_count": 6,
   "metadata": {},
   "outputs": [
    {
     "name": "stdout",
     "output_type": "stream",
     "text": [
      "2550\n"
     ]
    }
   ],
   "source": [
    "count = 1\n",
    "sum = 0\n",
    "while count <= 100 :\n",
    "    if count%2 == 0 :\n",
    "        sum += count\n",
    "    count = count + 1\n",
    "print (sum)"
   ]
  },
  {
   "cell_type": "markdown",
   "metadata": {},
   "source": [
    "위의 홀수를 출력하는 문제와 같은 방식으로, 값의 나머지 값이 0이면 짝수이므로, 그 값을 sum이라는 변수에 while문을 이용하여 100 사이의 값을 짝수인지 판별한 후 계속해서 더해주도록 프로그래밍 한다. "
   ]
  },
  {
   "cell_type": "markdown",
   "metadata": {},
   "source": [
    "### 7번 문제\n",
    "- 사용자로 부터 임의의 정수를 입력받고, 해당 숫자를 역순으로 출력하는 프로그램을 작성하시오."
   ]
  },
  {
   "cell_type": "code",
   "execution_count": 7,
   "metadata": {},
   "outputs": [
    {
     "name": "stdout",
     "output_type": "stream",
     "text": [
      "정수를 입력하세요 : 3125\n",
      "숫자 역순은 5213 입니다.\n"
     ]
    }
   ],
   "source": [
    "num = str(input(\"정수를 입력하세요 : \"))\n",
    "\n",
    "print (\"숫자 역순은 \" + num[::-1] + \" 입니다.\")"
   ]
  },
  {
   "cell_type": "markdown",
   "metadata": {},
   "source": [
    "위 3번 문제와 같은 방식으로, 문자열로 정수를 입력받아서 slicing을 이용하여 입력받은 문자열 타입의 숫자를 역순으로 출력할 수 있도록 프로그래밍 한다."
   ]
  },
  {
   "cell_type": "markdown",
   "metadata": {},
   "source": [
    "### 8번 문제\n",
    "- 사용자로 부터 정수를 입력받아서 1부터 그 사이에 존재하는 소수 (Prime number)를 출력하는 파이썬 프로그램을 작성하시오."
   ]
  },
  {
   "cell_type": "code",
   "execution_count": 14,
   "metadata": {},
   "outputs": [
    {
     "name": "stdout",
     "output_type": "stream",
     "text": [
      "정수를 입력하세요 : 30\n",
      "소수 : 2 3 5 7 11 13 17 19 23 29 "
     ]
    }
   ],
   "source": [
    "num = int(input(\"정수를 입력하세요 : \"))\n",
    "n = 1 \n",
    "print (\"소수 : \", end = \"\" )\n",
    "while n <= num : \n",
    "    count = 0    \n",
    "    div = 1      \n",
    "    while div <= n :          \n",
    "        if n % div == 0 :     \n",
    "            count = count + 1\n",
    "        div = div + 1         \n",
    "        \n",
    "    if count == 2 :           \n",
    "        print (n, end = \" \")  \n",
    "    n = n+1                   "
   ]
  },
  {
   "cell_type": "markdown",
   "metadata": {},
   "source": [
    "정수를 입력받고, 그 사이의 소수를 찾기 위해 그 사이 값을 나타내는 변수 n과 n 값의 약수의 갯수를 값으로 갖는 count를 변수로 선언한다. while 문을 이용하여 사이값을 나타내는 n의 값을 1부터 입력받은 정수 값 까지 반복을 시행할 때마다 1씩 증가하게 하고, 그 안에 while문을 선언하고, n의 값의 약수의 갯수를 count에 저장한다. 내부의 while문이 종료되었을 때 count의 값이 2라면, 그 값은 소수로 판정되고 출력이 된다. 내부의 while문이 종료됨과 동시에 count 값은 0으로 다시 초기화 된다."
   ]
  },
  {
   "cell_type": "markdown",
   "metadata": {},
   "source": [
    "### [ACM-ICPC 문제 2439번]\n",
    "- 첫째 줄에는 별 1개, 둘째 줄에는 별 2개, N번째 줄에는 별 N개를 찍는 문제\n",
    "\n",
    "  - 하지만, 오른쪽을 기준으로 정렬한 별 (예제 참고)을 출력하시오."
   ]
  },
  {
   "cell_type": "code",
   "execution_count": 2,
   "metadata": {
    "scrolled": true
   },
   "outputs": [
    {
     "name": "stdout",
     "output_type": "stream",
     "text": [
      "5\n",
      "    *\n",
      "   **\n",
      "  ***\n",
      " ****\n",
      "*****\n"
     ]
    }
   ],
   "source": [
    "N = int(input())\n",
    "number = 1\n",
    "\n",
    "while number <= N :\n",
    "    space = N - number\n",
    "   \n",
    "    while space != 0 :\n",
    "        print (' ', end = \"\")\n",
    "        space = space - 1\n",
    "    \n",
    "    print (number * '*')\n",
    "    number = number + 1"
   ]
  },
  {
   "cell_type": "markdown",
   "metadata": {},
   "source": [
    "변수 N에 몇개의 줄 까지 별을 출력할지 입력을 받는다. 변수 number은 별의 갯수를 의미하고, space는 공백 한 칸을 의미한다. 첫 줄에는 N-number 개의 공백과 number 개의 별이 존재한다. 즉, space = N - number로 변수를 초기화시킬 수 있다. while문을 통해, 줄이 넘어갈 수록 별의 갯수가 하나씩 증가하므로 number 변수의 값을 1씩 증가시켜주고, 반대로 공백의 갯수는 하나씩 감소하므로 space의 값은 1씩 감소시켜 준다."
   ]
  },
  {
   "cell_type": "markdown",
   "metadata": {
    "collapsed": true
   },
   "source": [
    "### [ACM-ICPC 문제 1924번]\n",
    "- 오늘은 2007년 1월 1일 월요일이다. 그렇다면 2007년 x월 y일은 무슨 요일일까? 이를 알아내는 프로그램을 작성하시오."
   ]
  },
  {
   "cell_type": "code",
   "execution_count": 17,
   "metadata": {},
   "outputs": [
    {
     "name": "stdout",
     "output_type": "stream",
     "text": [
      "1 1\n",
      "MON\n"
     ]
    }
   ],
   "source": [
    "month, day = input().split() #공백을 기준으로 입력받음\n",
    "month = eval(month)          #문자열로 된 식의 값을 return 함\n",
    "day = eval(day)\n",
    "\n",
    "sum = 0\n",
    "\n",
    "month = month - 1\n",
    "while month > 0 :\n",
    "    if month == 1 or month == 3 or month == 5 or month == 7 or month == 8 or month == 10 or month == 12 :\n",
    "        sum = sum + 31\n",
    "    elif month == 4 or month == 6 or month == 9 or month == 11 :\n",
    "        sum = sum + 30\n",
    "    else :\n",
    "        sum = sum + 28\n",
    "    month = month - 1\n",
    "sum = sum + day\n",
    "\n",
    "if sum%7 == 1 : print(\"MON\")\n",
    "elif sum%7 == 2 : print (\"TUE\")\n",
    "elif sum%7 == 3 : print (\"WED\")\n",
    "elif sum%7 == 4 : print (\"THU\")\n",
    "elif sum%7 == 5 : print (\"FRI\")\n",
    "elif sum%7 == 6 : print (\"SAT\")\n",
    "else : print (\"SUN\")\n",
    "\n",
    "#x월 y일에서 총 몇일이 차이나는지 구한 후 \n",
    "#7로 나눠서 나머지가 1이면 화요일, 2이면 수요일 ..."
   ]
  },
  {
   "cell_type": "markdown",
   "metadata": {},
   "source": [
    "월과 일을 각각 month, day 변수에 int 타입으로 입력을 받고, 총 몇일인지를 나타내는 변수 sum을 선언하고, 0으로 초기화 시킨다. 입력받은 월에 따라 while문을 사용하여 해당 월이 몇일 까지 있는지를 if 문으로 경우를 나누어서 sum 변수에 누적해서 더해준다. 이때, while문에 들어가기 전에, 입력받은 month의 값을 1만큼 빼주어야 하는데, 이는 해당 월은 아직 종료되지 않았기 때문이다. 월에 대한 날짜의 모든 합이 sum에 저장되었다면, 마지막으로 입력받은 일의 수를 sum에 더하여 주고 조건문을 이용, 나머지값을 활용하여 총 날짜의 수에 대한 해당 날짜의 요일을 출력시킨다."
   ]
  },
  {
   "cell_type": "markdown",
   "metadata": {},
   "source": [
    "### [ACM-ICPC 문제 11720번]\n",
    "- N개의 숫자가 공백 없이 쓰여있다. 이 숫자를 모두 합해서 출력하는 프로그램을 작성하시오."
   ]
  },
  {
   "cell_type": "code",
   "execution_count": 2,
   "metadata": {},
   "outputs": [
    {
     "name": "stdout",
     "output_type": "stream",
     "text": [
      "5\n",
      "19234\n",
      "19\n"
     ]
    }
   ],
   "source": [
    "num = int(input())\n",
    "number = str(input())\n",
    "count = 0\n",
    "sum = 0\n",
    "\n",
    "while count < num :\n",
    "    sum = sum + int(number[count : count+1])\n",
    "    count = count+1\n",
    "    \n",
    "print (sum)"
   ]
  },
  {
   "cell_type": "markdown",
   "metadata": {},
   "source": [
    "숫자의 갯수를 num에 입력받고, number에 num 갯수의 숫자를 공백 없이 문자열로 입력받는다. 입력받은 문자열을 while문에서 slicing을 활용하여 하나의 문자씩 int 타입으로 형변환하여 숫자의 모든 합을 나타내는 sum 변수에 더하여 준다."
   ]
  },
  {
   "cell_type": "markdown",
   "metadata": {},
   "source": [
    "### [정답 확인 표]"
   ]
  },
  {
   "cell_type": "markdown",
   "metadata": {},
   "source": [
    "<img src = \"image/스크립트 과제01.png\" />"
   ]
  },
  {
   "cell_type": "markdown",
   "metadata": {},
   "source": [
    "### [느낀점]"
   ]
  },
  {
   "cell_type": "markdown",
   "metadata": {},
   "source": [
    "  * 첫 과제이고, 아직 배운것도 많이 없고 언어를 배우는 초기 과정이라 과제를 하는데에 큰 어려움은 없었습니다. 각종 메서드나 변수 타입 등 다른 언어와 조금씩 다른 점은 있지만, 방식이 비슷하기 때문에 문제를 푸는데 지장은 없었습니다. 하지만 문제 1924번 처럼 공백을 기준으로 값을 입력받는 것과 같이 ACM-ICPC 문제를 풀고, 제출하였을 때 정답임을 얻기 위해 그 틀을 꼭 맞춰야 된다는 것에 많이 불편함이 있었던 것 같습니다. 어려운 문제가 아니었음에도 불구하고 처음에 계속해서 틀렸다고 뜨고, 컴파일 에러, 런타임 에러가 뜨길래 많이 당황하였고 좌절하였는데 값을 입력받을 때에 \"값을 입력하시오 : \" 라는 출력 구문을 추가하였다고 발생한 에러라는 걸 뒤늦게 깨달았을 때 많이 황당하였습니다. 이런 내가 작성한 코드를 확인 해주는 프로그램도 있다는 것에 대해 흥미롭기도 하고 한편으로는 놀라웠고 맞았다는 결과를 얻었을 때에 어느정도 성취감도 느낄 수 있었습니다. 파이썬이라는 언어를 배울수록 많이 흥미를 느끼는 것 같고, 언어를 배우는 것 이외에 각종 플랫폼 및 프로그램을 이용하고 알아가는 과정에 있어서 많이 만족스럽고 배운게 많은 과제였던 것 같습니다. "
   ]
  },
  {
   "cell_type": "code",
   "execution_count": null,
   "metadata": {
    "collapsed": true
   },
   "outputs": [],
   "source": []
  }
 ],
 "metadata": {
  "kernelspec": {
   "display_name": "Python 3",
   "language": "python",
   "name": "python3"
  },
  "language_info": {
   "codemirror_mode": {
    "name": "ipython",
    "version": 3
   },
   "file_extension": ".py",
   "mimetype": "text/x-python",
   "name": "python",
   "nbconvert_exporter": "python",
   "pygments_lexer": "ipython3",
   "version": "3.6.1"
  }
 },
 "nbformat": 4,
 "nbformat_minor": 2
}
