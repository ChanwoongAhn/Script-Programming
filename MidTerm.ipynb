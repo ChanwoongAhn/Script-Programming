{
 "cells": [
  {
   "cell_type": "markdown",
   "metadata": {},
   "source": [
    "* 스크립트 언어의 장점\n",
    " - 개발 시간이 단축된다.\n",
    " - 소스 코드 수정이 빠르고 간단하게 이루어진다.\n",
    "* 스크립트 언어의 단점\n",
    " - 중간 코드를 만드는 것은 간단하지만 그것을 실제로 실행시키는 것은 많은 작업을 필요로 한다.\n",
    " - 실행 시간이 오래 걸린다."
   ]
  },
  {
   "cell_type": "code",
   "execution_count": 3,
   "metadata": {},
   "outputs": [
    {
     "name": "stdout",
     "output_type": "stream",
     "text": [
      "3.5 5.6\n",
      "5.6 3.5\n"
     ]
    }
   ],
   "source": [
    "# 세미콜론(;)로 순차적으로 입력된 각 statement를 분리함\n",
    "e = 3.5; f = 5.6\n",
    "print (e,f )\n",
    "\n",
    "# Swap\n",
    "e,f = f, e\n",
    "print (e,f)"
   ]
  },
  {
   "cell_type": "code",
   "execution_count": 4,
   "metadata": {},
   "outputs": [
    {
     "name": "stdout",
     "output_type": "stream",
     "text": [
      "1 Hello\n"
     ]
    }
   ],
   "source": [
    "# print를 여러번 사용하여 두 개 이상의 자료를 newline 없이 출력할 때에는 end=' '를 사용 (디폴트는 end='\\n')\n",
    "print(1, end=\" \")\n",
    "print(\"Hello\")"
   ]
  },
  {
   "cell_type": "code",
   "execution_count": 6,
   "metadata": {},
   "outputs": [
    {
     "name": "stdout",
     "output_type": "stream",
     "text": [
      "<class 'complex'>\n",
      "(3.4+5j)\n"
     ]
    }
   ],
   "source": [
    "# 복소수\n",
    "a = 3.4+5j\n",
    "\n",
    "print(type(a))\n",
    "print(complex(3.4, 5))"
   ]
  },
  {
   "cell_type": "markdown",
   "metadata": {},
   "source": [
    "![title](image/pyo01.JPG)"
   ]
  },
  {
   "cell_type": "code",
   "execution_count": 9,
   "metadata": {
    "collapsed": true
   },
   "outputs": [],
   "source": [
    "# 수치 자료형의 치환\n",
    "#아래 예에서는 x가 지니고 있는 1의 값이 변경되는 것이 아니라 \n",
    "#새로운 객체 2로 레퍼런스를 변경하는 것임\n",
    "#동일한 변수에 다른 리스트를 할당하는 것은 해당 변수의 레퍼런스를 변경함\n",
    "\n",
    "x = 1\n",
    "x = 2"
   ]
  },
  {
   "cell_type": "code",
   "execution_count": 12,
   "metadata": {},
   "outputs": [
    {
     "name": "stdout",
     "output_type": "stream",
     "text": [
      "\n",
      "To be, or not to be\n",
      "that is the question\n",
      "\n"
     ]
    }
   ],
   "source": [
    "# 여러줄로 된 문자열 출력하기\n",
    "multiline = '''\n",
    "To be, or not to be\n",
    "that is the question\n",
    "'''\n",
    "print(multiline)"
   ]
  },
  {
   "cell_type": "code",
   "execution_count": 14,
   "metadata": {},
   "outputs": [
    {
     "name": "stdout",
     "output_type": "stream",
     "text": [
      "hello World\n"
     ]
    }
   ],
   "source": [
    "# 문자열을 변경하려면 Slicing 및 연결 연산 (+)을 주로 이용한다.\n",
    "s = 'Hello World'\n",
    "s = 'h' + s[1:]\n",
    "print (s)"
   ]
  },
  {
   "cell_type": "code",
   "execution_count": 16,
   "metadata": {},
   "outputs": [
    {
     "name": "stdout",
     "output_type": "stream",
     "text": [
      "dict_keys(['one', 'two', 'three', 'four'])\n",
      "dict_values([1, 'dul', 'set', 'net'])\n",
      "dict_items([('one', 1), ('two', 'dul'), ('three', 'set'), ('four', 'net')])\n",
      "<class 'dict_keys'>\n",
      "<class 'dict_values'>\n",
      "<class 'dict_items'>\n"
     ]
    }
   ],
   "source": [
    "# 사전\n",
    "d = {'one': 1, 'two': 'dul', 'three': 'set', 'four': 'net'}\n",
    "print(d.keys())    # 키만 리스트로 추출함\n",
    "print(d.values())  # 값만 리스트로 추출함\n",
    "print(d.items())   # 키와 값의 튜플을 리스트로 반환함\n",
    "\n",
    "print(type(d.keys()))    # 키만 리스트로 추출함\n",
    "print(type(d.values()))  # 값만 리스트로 추출함\n",
    "print(type(d.items()))   # 키와 값의 튜플을 리스트로 반환함"
   ]
  },
  {
   "cell_type": "code",
   "execution_count": 17,
   "metadata": {},
   "outputs": [
    {
     "name": "stdout",
     "output_type": "stream",
     "text": [
      "2142454128560\n",
      "2142454128560\n"
     ]
    }
   ],
   "source": [
    "# id(): 객체의 식별자를 반환한다.\n",
    "a = 500\n",
    "b = a\n",
    "print(id(a))\n",
    "print(id(b))"
   ]
  },
  {
   "cell_type": "code",
   "execution_count": 20,
   "metadata": {},
   "outputs": [
    {
     "name": "stdout",
     "output_type": "stream",
     "text": [
      "2142454528264\n",
      "2142454382856\n",
      "True\n",
      "False\n"
     ]
    }
   ],
   "source": [
    "# is 키워드: 두 객체의 식별자가 동일한지 테스트한다.\n",
    "c = [1,2,3]\n",
    "d = [1,2,3]\n",
    "\n",
    "print (id(c))\n",
    "print (id(d))\n",
    "print (a is b)\n",
    "print(c is d)"
   ]
  },
  {
   "cell_type": "code",
   "execution_count": 21,
   "metadata": {},
   "outputs": [
    {
     "name": "stdout",
     "output_type": "stream",
     "text": [
      "[9, 7, 5, 3, 1]\n"
     ]
    }
   ],
   "source": [
    "s = [1,2,3,4,5,6,7,8,9]\n",
    "\n",
    "print (s[::-2])"
   ]
  },
  {
   "cell_type": "code",
   "execution_count": 8,
   "metadata": {},
   "outputs": [
    {
     "name": "stdout",
     "output_type": "stream",
     "text": [
      "(-4, 1)\n",
      "1\n"
     ]
    }
   ],
   "source": [
    "# 나머지 연산\n",
    "print (divmod(-7,2))\n",
    "print (-7%2)"
   ]
  },
  {
   "cell_type": "code",
   "execution_count": 9,
   "metadata": {},
   "outputs": [
    {
     "name": "stdout",
     "output_type": "stream",
     "text": [
      "512\n"
     ]
    }
   ],
   "source": [
    "# ** 연산자\n",
    "print (2**3**2)"
   ]
  },
  {
   "cell_type": "code",
   "execution_count": 28,
   "metadata": {},
   "outputs": [
    {
     "name": "stdout",
     "output_type": "stream",
     "text": [
      "False\n",
      "True\n",
      "True\n"
     ]
    }
   ],
   "source": [
    "#문자열 간의 대소 비교\n",
    "print('a' > 'b')\n",
    "print ('abcd' > 'abc')\n",
    "print ('abcd' < 'absd')"
   ]
  },
  {
   "cell_type": "code",
   "execution_count": 29,
   "metadata": {},
   "outputs": [
    {
     "name": "stdout",
     "output_type": "stream",
     "text": [
      "True\n",
      "True\n",
      "False\n",
      "False\n",
      "True\n"
     ]
    }
   ],
   "source": [
    "x = [1,2,3]\n",
    "y = [1,2,3]\n",
    "z = y\n",
    "\n",
    "print(x == y)\n",
    "print(x == z)\n",
    "print(x is y)\n",
    "print(x is z)\n",
    "print(y is z)"
   ]
  },
  {
   "cell_type": "code",
   "execution_count": 30,
   "metadata": {},
   "outputs": [
    {
     "name": "stdout",
     "output_type": "stream",
     "text": [
      "False\n",
      "True\n",
      "True\n",
      "True\n",
      "\n",
      "False\n",
      "True\n"
     ]
    }
   ],
   "source": [
    "# 0의 값 이외엔 True\n",
    "print(bool(0)) # 정수 0은 거짓\n",
    "print(bool(1))\n",
    "print(bool(100))\n",
    "print(bool(-100))\n",
    "print()\n",
    "print(bool(0.0)) # 실수 0.0은 거짓\n",
    "print(bool(0.1))"
   ]
  },
  {
   "cell_type": "code",
   "execution_count": 31,
   "metadata": {},
   "outputs": [
    {
     "name": "stdout",
     "output_type": "stream",
     "text": [
      "True\n",
      "False\n",
      "\n",
      "False\n",
      "True\n",
      "\n",
      "False\n",
      "True\n",
      "\n",
      "False\n",
      "True\n",
      "\n",
      "False\n"
     ]
    }
   ],
   "source": [
    "# 값이 없는 빈 객체나 None 객체는 False로 평가됨\n",
    "print(bool('abc'))\n",
    "print(bool(''))\n",
    "print()\n",
    "print(bool([])) # 공 리스트는 거짓\n",
    "print(bool([1,2,3]))\n",
    "print()\n",
    "print(bool(())) # 공 튜플은 거짓\n",
    "print(bool((1,2,3)))\n",
    "print()\n",
    "print(bool({})) # 공 사전은 거짓\n",
    "print(bool({1:2}))\n",
    "print()\n",
    "print(bool(None)) # None 객체는 거짓"
   ]
  },
  {
   "cell_type": "code",
   "execution_count": 110,
   "metadata": {},
   "outputs": [
    {
     "name": "stdout",
     "output_type": "stream",
     "text": [
      "-1\n",
      "1\n",
      "0\n"
     ]
    }
   ],
   "source": [
    "def cmp(a, b):\n",
    "    return (a > b) - (a < b) \n",
    "\n",
    "print(cmp(1, 2))\n",
    "\n",
    "print(cmp(5, 2))\n",
    "\n",
    "print(cmp('abc', 'abc'))"
   ]
  },
  {
   "cell_type": "code",
   "execution_count": 32,
   "metadata": {},
   "outputs": [
    {
     "name": "stdout",
     "output_type": "stream",
     "text": [
      "2\n",
      "1\n",
      "\n",
      "[[]]\n",
      "[{}]\n",
      "1\n"
     ]
    }
   ],
   "source": [
    "# ★★★★★★★★\n",
    "print(1 and 2)\n",
    "print(1 or 2)\n",
    "print()\n",
    "print([[]] or 1) # [[]] 참으로 간주\n",
    "print([{}] or 1) # [{}] 참으로 간주\n",
    "print('' or 1)   # 빈 문자열('')은 거짓"
   ]
  },
  {
   "cell_type": "markdown",
   "metadata": {},
   "source": [
    "- and 연산자의 경우 x and y 를 기준으로 했을 때, x가 거짓이면 x를 반환하고, 그 외의 경우 y를 반환한다.\n",
    "- or 연산자의 경우 x or y 를 기준으로 했을 때, x가 거짓이면 y를 반환하고, 그 외의 경우 x를 반환한다.\n",
    "- and와 or 연산에서 and 연산이 우선순위를 가진다."
   ]
  },
  {
   "cell_type": "code",
   "execution_count": 35,
   "metadata": {},
   "outputs": [
    {
     "name": "stdout",
     "output_type": "stream",
     "text": [
      "0 cat\n",
      "1 dog\n",
      "2 bird\n",
      "3 pig\n"
     ]
    }
   ],
   "source": [
    "# enumerate() 내장 함수 \n",
    "#컨테이너 객체가 지닌 각 요소값뿐만 아니라 인덱스 값도 함께 반환한다.\n",
    "l = ['cat', 'dog', 'bird', 'pig']\n",
    "for k, animal in enumerate(l):\n",
    "    print(k, animal)"
   ]
  },
  {
   "cell_type": "code",
   "execution_count": 36,
   "metadata": {},
   "outputs": [
    {
     "name": "stdout",
     "output_type": "stream",
     "text": [
      "8\n",
      "9\n",
      "done\n"
     ]
    }
   ],
   "source": [
    "# continue: \n",
    "# 루프 블록 내의 continue 이후 부분은 수행하지 않고 루프의 시작부분으로 이동한다.\n",
    "for x in range(10):\n",
    "    if x < 8:\n",
    "        continue\n",
    "    print(x)\n",
    "    \n",
    "print('done')"
   ]
  },
  {
   "cell_type": "code",
   "execution_count": 45,
   "metadata": {},
   "outputs": [
    {
     "name": "stdout",
     "output_type": "stream",
     "text": [
      "11\n",
      "10\n",
      "9\n",
      "<function add at 0x0000024D021C07B8>\n",
      "True\n"
     ]
    }
   ],
   "source": [
    "# 함수 이름에 저장된 레퍼런스를 다른 변수에 할당하여 그 변수를 이용한 함수 호출 가능\n",
    "def add(a,b=1) :\n",
    "    return a+b\n",
    "print (add(10,))\n",
    "print (add(9))\n",
    "f = add\n",
    "print(f(a=4, b=5)) #인자의 이름과 함께 인자를 넘겨줄 수 있음\n",
    "\n",
    "print(f)\n",
    "\n",
    "print(f is add)"
   ]
  },
  {
   "cell_type": "code",
   "execution_count": 46,
   "metadata": {},
   "outputs": [
    {
     "name": "stdout",
     "output_type": "stream",
     "text": [
      "None\n"
     ]
    }
   ],
   "source": [
    "# 함수의 몸체에는 최소한 한개 이상의 statement가 존재해야 함\n",
    "# 아무런 내용이 없는 몸체를 지닌 함수를 만들 때에는 \n",
    "# pass 라는 키워드를 몸체에 적어주어야 함\n",
    "def simple():\n",
    "    pass\n",
    "\n",
    "print(simple())"
   ]
  },
  {
   "cell_type": "markdown",
   "metadata": {},
   "source": [
    "- 파이썬에서는 모든 객체는 동적으로 (실행시간에) 그 타입이 결정된다.\n",
    " - 함수 인자는 함수가 호출되는 순간 해당 인자에 전달되는 객체에 따라 그 타입이 결정된다.\n",
    " - 함수 몸체 내에서 사용되는 여러 가지 연산자들은 함수 호출시에 결정된 객체 타입에 맞게 실행된다."
   ]
  },
  {
   "cell_type": "markdown",
   "metadata": {},
   "source": [
    "- 시퀸스 자료형\n",
    " - 저장된 각 요소를 정수 index를 이용하여 참조가 가능한 자료형\n",
    " - 시퀸스 자료형 : 문자열, 리스트, 튜플\n",
    " - 시퀸스 자료형이 갖는 공통적인 연산\n",
    "   - 인덱싱\n",
    "   - 슬라이싱\n",
    "   - 확장 슬라이싱\n",
    "   - 연결\n",
    "   - 반복\n",
    "   - 멤버쉽 테스트\n",
    "   - 길이 정보\n",
    "   - for~in문"
   ]
  },
  {
   "cell_type": "code",
   "execution_count": 47,
   "metadata": {},
   "outputs": [
    {
     "name": "stdout",
     "output_type": "stream",
     "text": [
      "abcdef\n"
     ]
    }
   ],
   "source": [
    "s = 'abcdef'\n",
    "print (s[-100:100]) #범위가 넘어도 오류 안남"
   ]
  },
  {
   "cell_type": "code",
   "execution_count": 48,
   "metadata": {},
   "outputs": [
    {
     "name": "stdout",
     "output_type": "stream",
     "text": [
      "abcde\b\n"
     ]
    }
   ],
   "source": [
    "print ('abcde\\b')"
   ]
  },
  {
   "cell_type": "markdown",
   "metadata": {},
   "source": [
    "![title](image/pyo02.JPG)"
   ]
  },
  {
   "cell_type": "code",
   "execution_count": 52,
   "metadata": {},
   "outputs": [
    {
     "name": "stdout",
     "output_type": "stream",
     "text": [
      "I LIKE PROGRAMMING.\n",
      "i like programming.\n",
      "i lIKE pROGRAMMING\n",
      "I like programming.\n",
      "I Like Programming.\n",
      "\n",
      "2\n",
      "\n",
      "2\n",
      "7\n",
      "7\n",
      "-1\n",
      "\n",
      "2\n",
      "22\n",
      "-1\n",
      "\n",
      "True\n",
      "False\n",
      "\n",
      "True\n",
      "True\n",
      "False\n",
      "\n"
     ]
    }
   ],
   "source": [
    "# 문자열 메소드\n",
    "s = 'i like programming.'\n",
    "print(s.upper())\n",
    "print(s.upper().lower())\n",
    "print('I Like Programming'.swapcase())  # 대문자는 소문자로, 소문자는 대문자로 변환\n",
    "print(s.capitalize()) # 첫 문자를 대문자로 변환\n",
    "print(s.title())      # 각 단어의 첫 문자를 대문자로 변환 \n",
    "print()\n",
    "\n",
    "s = 'i like programming, i like swimming.'\n",
    "print(s.count('like')) # 'like' 문자열이 출현한 횟수를 반환\n",
    "print()\n",
    "print(s.find('like')) # 'like'의 첫글자의 인덱스인 위치(offset)를 반환\n",
    "print(s.find('programming')) # 'programming'의 첫글자 위치를 반환\n",
    "print(s.find('programmin')) # 'programmin'의 첫글자 위치를 반환\n",
    "print(s.find('programmii')) # 'programmii' 단어는 없기 때문에 -1 반환\n",
    "print()\n",
    "print(s.find('like'))\n",
    "print(s.find('like', 3)) # offset=3 부터 'like'을 검색하여 'like'의 첫글자 위치 반환 \n",
    "print(s.find('my')) # 'my' 단어는 없기 때문에 -1 반환\n",
    "print()\n",
    "\n",
    "s = 'i like programming, i like swimming.'\n",
    "print(s.startswith('i like')) # 'i like'로 시작하는 문자열인지 판단\n",
    "print(s.startswith('I like')) # 대소문자 구별\n",
    "print()\n",
    "\n",
    "print(s.endswith('swimming.')) # 'swimming.'로 끝나는 문자열인지 판단\n",
    "print(s.startswith('progr', 7)) # 7번째 문자열이 'progr'로 시작하는지 판단\n",
    "print(s.startswith('progr', 9))\n",
    "print()"
   ]
  },
  {
   "cell_type": "code",
   "execution_count": 64,
   "metadata": {},
   "outputs": [
    {
     "name": "stdout",
     "output_type": "stream",
     "text": [
      "spam and ham\n",
      " spam and ham          \n",
      "spam and ham\n",
      "\n",
      " spam and ham\n",
      "spam and ham          \n",
      "abc\n",
      "abc\n"
     ]
    }
   ],
   "source": [
    "# 스트링 안에서 지정된 문자를 지워줌\n",
    "# 디폴트 값은 공백\n",
    "u = ' spam and ham          '\n",
    "print(u.strip()) # 좌우 공백을 제거하여 새로운 스트링 생성\n",
    "print(u) # 스트링은 변경불가능 \n",
    "y = u.strip() # 즉, strip()는 새로운 스트링을 생성함\n",
    "print(y)\n",
    "print()\n",
    "\n",
    "print(u.rstrip()) # 오른쪽 공백 제거\n",
    "print(u.lstrip()) # 왼쪽 공백 제거   \n",
    "print('     abc '.strip())                            \n",
    "print('><><abc<><><>'.strip('<>')) # 인자로 주어진 스트링 안에 지정된 모든 문자를 좌우에서 제거"
   ]
  },
  {
   "cell_type": "code",
   "execution_count": 65,
   "metadata": {},
   "outputs": [
    {
     "name": "stdout",
     "output_type": "stream",
     "text": [
      "spam, egg and ham\n",
      "spam and ham\n"
     ]
    }
   ],
   "source": [
    "# replace() 메서드\n",
    "u = 'spam and ham'\n",
    "print(u.replace('spam', 'spam, egg')) # replace()는 새로운 스트링을 생성함\n",
    "print(u)"
   ]
  },
  {
   "cell_type": "code",
   "execution_count": 66,
   "metadata": {},
   "outputs": [
    {
     "name": "stdout",
     "output_type": "stream",
     "text": [
      "['spam', 'and', 'ham']\n",
      "[' spam ', ' ham     ']\n",
      "\n",
      "spam and ham\tegg\n",
      "cheese\n",
      "['spam', 'and', 'ham', 'egg', 'cheese']\n"
     ]
    }
   ],
   "source": [
    "# split() 메서드\n",
    "u = ' spam and ham     '\n",
    "print(u.split()) # 공백으로 분리 (모든 공백 제거 및 문자열 내의 단어 리스트를 얻을 수 있음)\n",
    "print(u.split('and')) # 'and'로 분리\n",
    "print()\n",
    "\n",
    "u2 = 'spam and ham\\tegg\\ncheese'\n",
    "print(u2)\n",
    "print(u2.split())"
   ]
  },
  {
   "cell_type": "code",
   "execution_count": 67,
   "metadata": {},
   "outputs": [
    {
     "name": "stdout",
     "output_type": "stream",
     "text": [
      "['spam', 'ham', 'egg', 'cheese']\n",
      "\n",
      "<class 'str'>\n",
      "spam:ham:egg:cheese\n",
      "\n",
      "spam,ham,egg,cheese\n",
      "\n",
      "spam\n",
      "ham\n",
      "egg\n",
      "cheese\n",
      "\n"
     ]
    }
   ],
   "source": [
    "# join() 메서드\n",
    "u = 'spam ham\\tegg\\ncheese'\n",
    "t = u.split() # 문자열 내의 단어 리스트    \n",
    "print(t)\n",
    "print()\n",
    "t2 = ':'.join(t) # 리스트 t 내부의 각 원소들을 ':'로 연결한 문자열 반환\n",
    "print(type(t2))\n",
    "# <type 'str'>\n",
    "\n",
    "print(t2)\n",
    "print()\n",
    "t3 = \",\".join(t) # 리스트 t 내부의 각 원소들을 ','으로 연결한 문자열 반환\n",
    "print(t3)\n",
    "print()\n",
    "t4 = '\\n'.join(t) # 리스트 t 내부의 각 원소들을 '\\n'으로 연결한 문자열 반환\n",
    "print(t4)\n",
    "print()"
   ]
  },
  {
   "cell_type": "code",
   "execution_count": 68,
   "metadata": {},
   "outputs": [
    {
     "name": "stdout",
     "output_type": "stream",
     "text": [
      "<class 'str'>\n",
      "<class 'list'>\n",
      "['first line', 'second line', 'third line']\n"
     ]
    }
   ],
   "source": [
    "# splitlines() 메서드\n",
    "lines = '''first line\n",
    "second line\n",
    "third line'''\n",
    "print(type(lines))\n",
    "lines2 = lines.splitlines() # 문자열을 라인 단위로 분리한 각 원소들을 지닌 리스트 반환\n",
    "print(type(lines2))\n",
    "print(lines2)"
   ]
  },
  {
   "cell_type": "code",
   "execution_count": 70,
   "metadata": {},
   "outputs": [
    {
     "name": "stdout",
     "output_type": "stream",
     "text": [
      "<class 'str'>\n",
      "                        spam and egg                        \n",
      "spam and egg                                                \n",
      "                                                spam and egg\n",
      "------------------------spam and egg------------------------\n",
      "spam and egg------------------------------------------------\n",
      "------------------------------------------------spam and egg\n"
     ]
    }
   ],
   "source": [
    "# 문자열 정렬 메서드\n",
    "u = 'spam and egg'\n",
    "c = u.center(60) # 60자리를 확보하되 기존 문자열을 가운데 정렬한 새로운 문자열 반환\n",
    "print(type(c))\n",
    "# <type 'str'>\n",
    "print(c)\n",
    "print(u.ljust(60)) # 60자리를 확보하되 기존 문자열을 왼쪽 정렬한 새로운 문자열 반환\n",
    "print(u.rjust(60)) # 60자리를 확보하되 기존 문자열을 오른쪽 정렬한 새로운 문자열 반환\n",
    "\n",
    "print(u.center(60, '-')) # 공백에 채워질 문자를 선택할 수 있음\n",
    "print(u.ljust(60, '-'))\n",
    "print(u.rjust(60, '-'))"
   ]
  },
  {
   "cell_type": "code",
   "execution_count": 71,
   "metadata": {},
   "outputs": [
    {
     "name": "stdout",
     "output_type": "stream",
     "text": [
      "True\n",
      "True\n",
      "True\n",
      "True\n",
      "True\n",
      "True\n",
      "True\n"
     ]
    }
   ],
   "source": [
    "print('1234'.isdigit()) # 문자열 내의 Character들이 모두 숫자인가?\n",
    "print('abcd'.isalpha()) # 문자열 내의 Character들이 모두 영문자인가?\n",
    "print('1abc234'.isalnum()) # 문자열 내의 Character들이 모두 영문자 또는 숫자인가? \n",
    "print('abc'.islower()) # 문자열 내의 Character들이 모두 소문자인가?\n",
    "print('ABC'.isupper()) # 문자열 내의 Character들이 모두 대문자인가?\n",
    "print('\\t\\r\\n'.isspace()) # 문자열 내의 Character들이 모두 공백 문자인가?\n",
    "print('This Is A Title'.istitle()) # 문자열이 Title 형식 (각 단어의 첫글자가 대문자)인가?"
   ]
  },
  {
   "cell_type": "code",
   "execution_count": 72,
   "metadata": {},
   "outputs": [
    {
     "name": "stdout",
     "output_type": "stream",
     "text": [
      "00123\n",
      "0goofy\n"
     ]
    }
   ],
   "source": [
    "s = '123'\n",
    "print(s.zfill(5)) # 5글자 자리 확보뒤 문자열을 쓰되 남는 공백에는 zero (0)를 채움 \n",
    "print('goofy'.zfill(6)) # 6글자 자리 확보뒤 ..."
   ]
  },
  {
   "cell_type": "code",
   "execution_count": 73,
   "metadata": {},
   "outputs": [
    {
     "name": "stdout",
     "output_type": "stream",
     "text": [
      "name = gslee, age = 24\n"
     ]
    }
   ],
   "source": [
    "# 튜플을 이용한 포매팅\n",
    "print('name = %s, age = %s' % ('gslee', '24'))"
   ]
  },
  {
   "cell_type": "code",
   "execution_count": 74,
   "metadata": {},
   "outputs": [
    {
     "name": "stdout",
     "output_type": "stream",
     "text": [
      "\n",
      "안녕하세요 홍길동님,\n",
      "\n",
      "오늘 밤 파티에 참석해 주실 수 있나요?\n",
      "\n",
      "그럼..\n",
      "\n",
      "이강성 드림\n",
      "\n",
      "\n",
      "안녕하세요 한학신님,\n",
      "\n",
      "오늘 밤 파티에 참석해 주실 수 있나요?\n",
      "\n",
      "그럼..\n",
      "\n",
      "이강성 드림\n",
      "----------------------------------------\n",
      "\n",
      "\n",
      "안녕하세요 정인숙님,\n",
      "\n",
      "오늘 밤 파티에 참석해 주실 수 있나요?\n",
      "\n",
      "그럼..\n",
      "\n",
      "이강성 드림\n",
      "----------------------------------------\n",
      "\n",
      "\n",
      "안녕하세요 박미경님,\n",
      "\n",
      "오늘 밤 파티에 참석해 주실 수 있나요?\n",
      "\n",
      "그럼..\n",
      "\n",
      "이강성 드림\n",
      "----------------------------------------\n",
      "\n"
     ]
    }
   ],
   "source": [
    "letter = '''\n",
    "안녕하세요 %s님,\n",
    "\n",
    "오늘 밤 파티에 참석해 주실 수 있나요?\n",
    "\n",
    "그럼..\n",
    "\n",
    "이강성 드림'''\n",
    "name = '홍길동'\n",
    "print(letter % name)\n",
    "print()\n",
    "names = ['한학신', '정인숙', '박미경']\n",
    "for name in names:\n",
    "    print(letter % name)\n",
    "    print('-' * 40)\n",
    "    print()"
   ]
  },
  {
   "cell_type": "code",
   "execution_count": 75,
   "metadata": {
    "scrolled": true
   },
   "outputs": [
    {
     "name": "stdout",
     "output_type": "stream",
     "text": [
      "홍길동 -- 5284\n",
      "홍길동 -- 5284\n",
      "홍길동 -- 5284\n"
     ]
    }
   ],
   "source": [
    "# 사전을 이용한 포메팅\n",
    "print('%(이름)s -- %(전화번호)s' %{'이름':'홍길동', '전화번호':5284})\n",
    "print('%(이름)s -- %(전화번호)s' %{'전화번호':5284, '이름':'홍길동'})\n",
    "print('%(이름)s -- %(전화번호)s' %{'전화번호':5284, '이름':'홍길동', '주소':'Seoul'})"
   ]
  },
  {
   "cell_type": "markdown",
   "metadata": {},
   "source": [
    "## 리스트 기초"
   ]
  },
  {
   "cell_type": "code",
   "execution_count": 77,
   "metadata": {},
   "outputs": [
    {
     "name": "stdout",
     "output_type": "stream",
     "text": [
      "1 Great\n",
      "[2, 'Great'] [1, 2, 'Great']\n",
      "\n",
      "range(0, 10, 2)\n",
      "[0, 2, 4, 6, 8]\n",
      "\n",
      "[1, 2, 'Great', 1, 2, 'Great']\n",
      "[1, 2, 'Great', 3, 4, 5]\n",
      "[0, 1, 2, 'Great']\n",
      "3\n",
      "\n",
      "True\n"
     ]
    }
   ],
   "source": [
    "l = []\n",
    "l = [1, 2, \"Great\"]\n",
    "print(l[0], l[-1])\n",
    "print(l[1:3], l[:])\n",
    "print()\n",
    "\n",
    "L = range(10)\n",
    "print(L[::2])\n",
    "print(list(L)[::2])\n",
    "print()\n",
    "\n",
    "print(l * 2)\n",
    "print(l + [3, 4, 5])\n",
    "print ([0] + l)\n",
    "print(len(l))\n",
    "print()\n",
    "print(4 in L)"
   ]
  },
  {
   "cell_type": "code",
   "execution_count": 78,
   "metadata": {},
   "outputs": [
    {
     "name": "stdout",
     "output_type": "stream",
     "text": [
      "[1, 12, 123, 1234]\n",
      "[1, 123, 1234]\n",
      "[1, 2, 3, 123, 1234]\n"
     ]
    }
   ],
   "source": [
    "a = ['spam', 'eggs', 123, 1234]\n",
    "a[0:2] = [1,12] # 동일한 크기에 대한 슬라이스 치환\n",
    "print(a)\n",
    "\n",
    "a[0:2] = [1] # 서로 다른 크기에 대한 슬라이스 치환\n",
    "print(a)\n",
    "\n",
    "a[0:1] = [1, 2, 3] # 서로 다른 크기에 대한 슬라이스 치환\n",
    "print(a)"
   ]
  },
  {
   "cell_type": "code",
   "execution_count": 83,
   "metadata": {},
   "outputs": [
    {
     "name": "stdout",
     "output_type": "stream",
     "text": [
      "[123, 'spam', 'ham', 1234]\n",
      "[123, 'spam', 'ham']\n",
      "[123, 'spam', 'ham', 1234, 123, 'spam', 'ham', 1234]\n",
      "\n",
      "[123, 1234]\n",
      "[2, 3, 4]\n",
      "[2]\n"
     ]
    }
   ],
   "source": [
    "# 리스트 원소 사이에 슬라이스 삽입 및 삭제\n",
    "a = [123, 1234]\n",
    "a[1:1] = ['spam', 'ham'] # 1번째 인덱스에 삽입\n",
    "print(a)\n",
    "\n",
    "b = [123, 1234]          \n",
    "b[1:2] = ['spam', 'ham'] # 1번째 원소에 대한 치환\n",
    "print(b)\n",
    "\n",
    "a[:0] = a # 리스트 맨 앞에 자기 자신을 삽입\n",
    "print(a)\n",
    "print()\n",
    "#삭제\n",
    "a = [1, 12, 123, 1234]\n",
    "a[0:2] = []\n",
    "\n",
    "print(a)\n",
    "\n",
    "a = [1, 2, 3, 4]\n",
    "del a[0]\n",
    "print(a)\n",
    "\n",
    "del (a[1:])\n",
    "print(a)"
   ]
  },
  {
   "cell_type": "code",
   "execution_count": 84,
   "metadata": {},
   "outputs": [
    {
     "name": "stdout",
     "output_type": "stream",
     "text": [
      "[0, 1, 2, 3, 4]\n"
     ]
    },
    {
     "ename": "NameError",
     "evalue": "name 'a' is not defined",
     "output_type": "error",
     "traceback": [
      "\u001b[1;31m---------------------------------------------------------------------------\u001b[0m",
      "\u001b[1;31mNameError\u001b[0m                                 Traceback (most recent call last)",
      "\u001b[1;32m<ipython-input-84-5a3410415750>\u001b[0m in \u001b[0;36m<module>\u001b[1;34m()\u001b[0m\n\u001b[0;32m      2\u001b[0m \u001b[0mprint\u001b[0m \u001b[1;33m(\u001b[0m\u001b[0ma\u001b[0m\u001b[1;33m)\u001b[0m\u001b[1;33m\u001b[0m\u001b[0m\n\u001b[0;32m      3\u001b[0m \u001b[1;32mdel\u001b[0m \u001b[1;33m(\u001b[0m\u001b[0ma\u001b[0m\u001b[1;33m)\u001b[0m\u001b[1;33m\u001b[0m\u001b[0m\n\u001b[1;32m----> 4\u001b[1;33m \u001b[0mprint\u001b[0m \u001b[1;33m(\u001b[0m\u001b[0ma\u001b[0m\u001b[1;33m)\u001b[0m\u001b[1;33m\u001b[0m\u001b[0m\n\u001b[0m",
      "\u001b[1;31mNameError\u001b[0m: name 'a' is not defined"
     ]
    }
   ],
   "source": [
    "a = list(range(5))\n",
    "print (a)\n",
    "del (a)\n",
    "print (a)"
   ]
  },
  {
   "cell_type": "code",
   "execution_count": 85,
   "metadata": {},
   "outputs": [
    {
     "name": "stdout",
     "output_type": "stream",
     "text": [
      "1\n",
      "['a', ['x', 'y'], 'b']\n",
      "['x', 'y']\n",
      "y\n"
     ]
    }
   ],
   "source": [
    "L = [1, ['a', ['x', 'y'], 'b'], 3]\n",
    "print(L[0])\n",
    "print(L[1])\n",
    "print(L[1][1])\n",
    "print(L[1][1][1])"
   ]
  },
  {
   "cell_type": "code",
   "execution_count": 87,
   "metadata": {},
   "outputs": [
    {
     "name": "stdout",
     "output_type": "stream",
     "text": [
      "0 inch= 0.0 centi\n",
      "1 inch= 2.54 centi\n",
      "2 inch= 5.08 centi\n",
      "3 inch= 7.62 centi\n",
      "4 inch= 10.16 centi\n",
      "5 inch= 12.7 centi\n",
      "6 inch= 15.24 centi\n",
      "7 inch= 17.78 centi\n",
      "8 inch= 20.32 centi\n",
      "9 inch= 22.86 centi\n"
     ]
    }
   ],
   "source": [
    "for el in range(10):\n",
    "    print(el, 'inch=', el * 2.54, 'centi')"
   ]
  },
  {
   "cell_type": "code",
   "execution_count": 93,
   "metadata": {},
   "outputs": [
    {
     "name": "stdout",
     "output_type": "stream",
     "text": [
      "name = one , num = 1\n",
      "name = two , num = 2\n",
      "name = three , num = 3\n",
      "\n",
      "name = one, num = 1\n",
      "name = two, num = 2\n",
      "name = three, num = 3\n"
     ]
    }
   ],
   "source": [
    "# 리스트 자료가 튜플일 때 for문으로 값 추출 방법\n",
    "lt = [('one', 1), ('two', 2), ('three', 3)]\n",
    "for t in lt:\n",
    "    print('name =', t[0] ,', num =', t[1])\n",
    "print()\n",
    "\n",
    "# 더 효율적인 방법\n",
    "for t in lt :\n",
    "    print ('name = %s, num = %s' %t)"
   ]
  },
  {
   "cell_type": "code",
   "execution_count": 95,
   "metadata": {},
   "outputs": [
    {
     "name": "stdout",
     "output_type": "stream",
     "text": [
      "one 1\n",
      "two 2\n",
      "three 3\n"
     ]
    }
   ],
   "source": [
    "LL = [['one', 1], ['two', 2], ['three', 3]]\n",
    "for a, b in LL:\n",
    "    print(a, b)"
   ]
  },
  {
   "cell_type": "code",
   "execution_count": 96,
   "metadata": {},
   "outputs": [
    {
     "name": "stdout",
     "output_type": "stream",
     "text": [
      "[1, 2, 3, 5]\n",
      "[1, 2, 3, 4, 5]\n",
      "2\n",
      "1\n",
      "5\n"
     ]
    }
   ],
   "source": [
    "# 리스트의 메소드\n",
    "s = [1, 2, 3]\n",
    "\n",
    "s.append(5) # 리스트 맨 마지막에 정수 값 5 추가\n",
    "print(s)\n",
    "\n",
    "s.insert(3, 4) # 3 인덱스 위치에 정수 값 4 추가\n",
    "print(s)\n",
    "\n",
    "print(s.index(3))        # 값 3의 인덱스 반환\n",
    "\n",
    "print(s.count(2))        # 값 2의 개수 반환\n",
    "\n",
    "s = [1, 2, 2, 2, 2, 2, 3, 4, 5]\n",
    "print(s.count(2))"
   ]
  },
  {
   "cell_type": "code",
   "execution_count": 98,
   "metadata": {},
   "outputs": [
    {
     "name": "stdout",
     "output_type": "stream",
     "text": [
      "None\n",
      "[100, -7, -10, 2, 1]\n",
      "None\n",
      "[-10, -7, 1, 2, 100]\n",
      "[20, 30, 40, 50]\n",
      "[10, 30, 20, 40, 50]\n",
      "[10, 30, 20, 40, 50, 60, 70]\n",
      "[10, 30, 20, 40, 50, 60, 70, [60, 70]]\n"
     ]
    }
   ],
   "source": [
    "# 리스트의 메소드\n",
    "s = [1, 2, -10, -7, 100]\n",
    "k = s.reverse() # 자료의 순서를 뒤집기 (반환값 없음)   \n",
    "print(k)\n",
    "print(s)\n",
    "\n",
    "k = s.sort() # 정렬 (반환값 없음)\n",
    "print(k)\n",
    "print(s)\n",
    "\n",
    "s = [10, 20, 30, 40, 50]\n",
    "s.remove(10) # 자료 값 10 삭제\n",
    "print(s)\n",
    "\n",
    "s = [10, 20, 30, 20, 40, 50] # 자료 값이 여러개 존재하면 첫번째 것만 삭제\n",
    "s.remove(20)\n",
    "print(s)\n",
    "\n",
    "s.extend([60, 70]) # 새로운 리스트([60, 70]를 기존 리스트 s 뒤에 병합\n",
    "print(s)\n",
    "\n",
    "s.append([60, 70]) # 주의: append로 새로운 리스트를 추가하면 하나의 자료 요소로서 추가\n",
    "print(s)"
   ]
  },
  {
   "cell_type": "code",
   "execution_count": 102,
   "metadata": {},
   "outputs": [
    {
     "name": "stdout",
     "output_type": "stream",
     "text": [
      "[10, 20, 30, 40, 50, 60]\n",
      "60\n",
      "[10, 20, 30, 40, 50]\n"
     ]
    }
   ],
   "source": [
    "# 리스트를 스택으로 사용\n",
    "s = [10, 20, 30, 40, 50]\n",
    "s.append(60)\n",
    "print(s)\n",
    "\n",
    "print(s.pop())\n",
    "\n",
    "print(s)"
   ]
  },
  {
   "cell_type": "code",
   "execution_count": 108,
   "metadata": {},
   "outputs": [
    {
     "name": "stdout",
     "output_type": "stream",
     "text": [
      "10\n",
      "[20, 30, 40, 50, 60]\n"
     ]
    }
   ],
   "source": [
    "# 리스트를 큐로 사용하기\n",
    "q = [10, 20, 30, 40, 50]\n",
    "q.append(60)\n",
    "print(q.pop(0))\n",
    "\n",
    "print(q)"
   ]
  },
  {
   "cell_type": "markdown",
   "metadata": {},
   "source": [
    "## 리스트 활용"
   ]
  },
  {
   "cell_type": "code",
   "execution_count": 109,
   "metadata": {},
   "outputs": [
    {
     "name": "stdout",
     "output_type": "stream",
     "text": [
      "None\n",
      "[1, 2, 3, 4, 5, 8, 9]\n"
     ]
    }
   ],
   "source": [
    "# L.sort() 함수는 리스트 L 자체를 변경하며 리턴값을 반환하지 않는다.\n",
    "L = [1, 5, 3, 9, 8, 4, 2]\n",
    "print(L.sort())\n",
    "print(L)"
   ]
  },
  {
   "cell_type": "code",
   "execution_count": 120,
   "metadata": {
    "scrolled": true
   },
   "outputs": [
    {
     "name": "stdout",
     "output_type": "stream",
     "text": [
      "sorted by name: [('jung', 10, 36), ('kim', 3, 28), ('lee', 5, 38)]\n",
      "sorted by experience: [('kim', 3, 28), ('lee', 5, 38), ('jung', 10, 36)]\n",
      "reversed list [('jung', 10, 36), ('lee', 5, 38), ('kim', 3, 28)]\n",
      "[('jung', 10, 36), ('kim', 3, 28), ('lee', 5, 38)]\n",
      "[('jung', 10, 36), ('lee', 5, 38), ('kim', 3, 28)]\n"
     ]
    },
    {
     "ename": "TypeError",
     "evalue": "sort() takes at most 2 arguments (3 given)",
     "output_type": "error",
     "traceback": [
      "\u001b[1;31m---------------------------------------------------------------------------\u001b[0m",
      "\u001b[1;31mTypeError\u001b[0m                                 Traceback (most recent call last)",
      "\u001b[1;32m<ipython-input-120-a19fe1764aa4>\u001b[0m in \u001b[0;36m<module>\u001b[1;34m()\u001b[0m\n\u001b[0;32m     19\u001b[0m \u001b[0mprint\u001b[0m \u001b[1;33m(\u001b[0m\u001b[0msorted\u001b[0m\u001b[1;33m(\u001b[0m\u001b[0mL\u001b[0m\u001b[1;33m,\u001b[0m \u001b[0mkey\u001b[0m\u001b[1;33m=\u001b[0m\u001b[0mcmp_by_each_element\u001b[0m\u001b[1;33m,\u001b[0m \u001b[0mreverse\u001b[0m\u001b[1;33m=\u001b[0m\u001b[1;32mTrue\u001b[0m\u001b[1;33m)\u001b[0m\u001b[1;33m)\u001b[0m\u001b[1;33m\u001b[0m\u001b[0m\n\u001b[0;32m     20\u001b[0m \u001b[1;31m#sorted는 정렬된 것을 반환, 기존 리스트 내용에는 변화 X\u001b[0m\u001b[1;33m\u001b[0m\u001b[1;33m\u001b[0m\u001b[0m\n\u001b[1;32m---> 21\u001b[1;33m \u001b[0mprint\u001b[0m \u001b[1;33m(\u001b[0m\u001b[0mL\u001b[0m\u001b[1;33m.\u001b[0m\u001b[0msort\u001b[0m\u001b[1;33m(\u001b[0m\u001b[0mL\u001b[0m\u001b[1;33m,\u001b[0m \u001b[0mkey\u001b[0m\u001b[1;33m=\u001b[0m\u001b[0mcmp_by_each_element\u001b[0m\u001b[1;33m,\u001b[0m \u001b[0mreverse\u001b[0m\u001b[1;33m=\u001b[0m\u001b[1;32mTrue\u001b[0m\u001b[1;33m)\u001b[0m\u001b[1;33m)\u001b[0m\u001b[1;33m\u001b[0m\u001b[0m\n\u001b[0m\u001b[0;32m     22\u001b[0m \u001b[1;31m#sort는 반환값 없음, 기존 리스트 내용을 변화시킴\u001b[0m\u001b[1;33m\u001b[0m\u001b[1;33m\u001b[0m\u001b[0m\n",
      "\u001b[1;31mTypeError\u001b[0m: sort() takes at most 2 arguments (3 given)"
     ]
    }
   ],
   "source": [
    "# 함수를 통해 기준 key 값 지정 가능\n",
    "L = [ ('lee', 5, 38), ('kim', 3, 28), ('jung', 10, 36)]\n",
    "\n",
    "def cmp_by_each_element(a):\n",
    "    return a[1]\n",
    "\n",
    "L.sort()\n",
    "print('sorted by name:', L)\n",
    "\n",
    "L.sort(key=cmp_by_each_element)\n",
    "print('sorted by experience:', L)\n",
    "\n",
    "L.sort(key=cmp_by_each_element, reverse=True)\n",
    "print ('reversed list', L)\n",
    "\n",
    "L.sort(key=str)\n",
    "print (L)\n",
    "\n",
    "print (sorted(L, key=cmp_by_each_element, reverse=True)) \n",
    "#sorted는 정렬된 것을 반환, 기존 리스트 내용에는 변화 X\n",
    "print (L.sort(L, key=cmp_by_each_element, reverse=True)) \n",
    "#sort는 반환값 없음, 기존 리스트 내용을 변화시킴"
   ]
  },
  {
   "cell_type": "code",
   "execution_count": 121,
   "metadata": {},
   "outputs": [
    {
     "name": "stdout",
     "output_type": "stream",
     "text": [
      "[(2, 12, 24), (4, 3, 12), (6, 15, 90), (8, 6, 48), (10, 18, 180), (12, 9, 108), (16, 12, 192), (18, 3, 54)]\n"
     ]
    }
   ],
   "source": [
    "# 리스트 내포\n",
    "L = [(i, j, i*j) for i in range(2, 20, 2) for j in range(3, 20, 3) if (i + j) % 7 == 0]\n",
    "print(L)"
   ]
  },
  {
   "cell_type": "markdown",
   "metadata": {},
   "source": [
    "## 튜플과 집합"
   ]
  },
  {
   "cell_type": "code",
   "execution_count": 125,
   "metadata": {},
   "outputs": [
    {
     "name": "stdout",
     "output_type": "stream",
     "text": [
      "<class 'tuple'>\n",
      "<class 'tuple'>\n",
      "<class 'tuple'>\n"
     ]
    }
   ],
   "source": [
    "t3 = 1,2,3   # 괄호가 없어도 튜플이 됨\n",
    "print (type(t3))\n",
    "\n",
    "x, y, z = 1, 2, 3 # 튜플을 이용한 복수 개의 자료 할당\n",
    "\n",
    "r1 = (1,) # 자료가 한 개일 때는 반드시 콤마가 있어야 한다.\n",
    "r2 = 1,   # 괄호는 없어도 콤마는 있어야 한다.\n",
    "print(type(r1))\n",
    "print(type(r2))"
   ]
  },
  {
   "cell_type": "code",
   "execution_count": 124,
   "metadata": {},
   "outputs": [
    {
     "name": "stdout",
     "output_type": "stream",
     "text": [
      "((12345, 54321, 'hello!'), (1, 2, 3, 4, 5))\n",
      "([1, 2, 3], (1, 2, 4))\n",
      "({1: 'abc', 2: 'def'}, (1, 2, 3))\n"
     ]
    }
   ],
   "source": [
    "t = (12345, 54321, 'hello!') \n",
    "u = t, (1, 2, 3, 4, 5) # 튜플 내부 원소로 다른 튜플을 가질 수 있음\n",
    "print(u)\n",
    "\n",
    "t2 = [1, 2, 3] # 튜플 내부 원소로 리스트 가질 수 있음 \n",
    "u2 = t2, (1, 2, 4)\n",
    "print(u2)\n",
    "\n",
    "t3 = {1:\"abc\", 2:\"def\"} # 튜플 내부 원소로 사전 가질 수 있음 \n",
    "u3 = t3, (1, 2, 3)\n",
    "print(u3)"
   ]
  },
  {
   "cell_type": "code",
   "execution_count": 129,
   "metadata": {},
   "outputs": [
    {
     "name": "stdout",
     "output_type": "stream",
     "text": [
      "1 hello\n",
      "1 hh\n"
     ]
    }
   ],
   "source": [
    "# 패킹과 언패킹\n",
    "t = 1, 2, 'hello'\n",
    "x,y,z = t\n",
    "print (x,z)\n",
    "\n",
    "# 리스트도 가능\n",
    "a = [1,2,'hh','asw']\n",
    "[x,y,z,k] = a\n",
    "print(x,z)"
   ]
  },
  {
   "cell_type": "code",
   "execution_count": 131,
   "metadata": {},
   "outputs": [
    {
     "name": "stdout",
     "output_type": "stream",
     "text": [
      "(1, 200, 3, 4, 5)\n"
     ]
    }
   ],
   "source": [
    "# list() 와 tuple() 내장 함수를 사용하여 리스트와 튜플을 상호 변환할 수 있음\n",
    "T = (1,2,3,4,5)\n",
    "T = list(T)\n",
    "T[1] = 200\n",
    "T = tuple(T)\n",
    "print (T)"
   ]
  },
  {
   "cell_type": "code",
   "execution_count": 133,
   "metadata": {},
   "outputs": [
    {
     "name": "stdout",
     "output_type": "stream",
     "text": [
      "9 20\n"
     ]
    }
   ],
   "source": [
    "# 튜플의 사용 용도 - 함수가 하나 이상의 값을 리턴하는 경우\n",
    "\n",
    "def calc(a, b):\n",
    "    return a+b, a*b\n",
    "\n",
    "x, y = calc(5, 4)\n",
    "print (x,y)"
   ]
  },
  {
   "cell_type": "markdown",
   "metadata": {},
   "source": [
    "- set 내장함수를 사용한 집합 자료 생성\n",
    "  - 변경 가능한 객체이다.\n",
    "  - 각 원소간에 순서는 없다.\n",
    "  - 각 원소는 중복될 수 없다.\n",
    "  - 시퀸스 자료형이 아니다.\n",
    "  - set은 시퀀스 자료형이 아니므로 인덱싱, 슬라이싱, 정렬 등을 지원하지 않는다\n",
    "  - 집합을 리스트나 튜플로 변경가능\n",
    "    - 집합에 인덱싱, 슬라이싱, 정렬 등을 적용하기 위해서는 리스트나 튜플로 변경한다.\n",
    "  - 하지만 집합에 for ~ in 연산은 적용 가능하다."
   ]
  },
  {
   "cell_type": "markdown",
   "metadata": {},
   "source": [
    "![title](image/pyo03.JPG)"
   ]
  },
  {
   "cell_type": "code",
   "execution_count": 135,
   "metadata": {},
   "outputs": [
    {
     "ename": "TypeError",
     "evalue": "unhashable type: 'list'",
     "output_type": "error",
     "traceback": [
      "\u001b[1;31m---------------------------------------------------------------------------\u001b[0m",
      "\u001b[1;31mTypeError\u001b[0m                                 Traceback (most recent call last)",
      "\u001b[1;32m<ipython-input-135-93f2dc58ca09>\u001b[0m in \u001b[0;36m<module>\u001b[1;34m()\u001b[0m\n\u001b[0;32m      1\u001b[0m \u001b[1;31m# 변경 가능 자료인 리스트는 집합의 원소가 될 수 없다.\u001b[0m\u001b[1;33m\u001b[0m\u001b[1;33m\u001b[0m\u001b[0m\n\u001b[1;32m----> 2\u001b[1;33m \u001b[0mprint\u001b[0m\u001b[1;33m(\u001b[0m\u001b[0mset\u001b[0m\u001b[1;33m(\u001b[0m\u001b[1;33m[\u001b[0m\u001b[1;33m[\u001b[0m\u001b[1;36m1\u001b[0m\u001b[1;33m,\u001b[0m\u001b[1;36m2\u001b[0m\u001b[1;33m,\u001b[0m\u001b[1;36m3\u001b[0m\u001b[1;33m]\u001b[0m\u001b[1;33m,\u001b[0m\u001b[1;33m[\u001b[0m\u001b[1;36m4\u001b[0m\u001b[1;33m,\u001b[0m\u001b[1;36m5\u001b[0m\u001b[1;33m,\u001b[0m\u001b[1;36m6\u001b[0m\u001b[1;33m]\u001b[0m\u001b[1;33m]\u001b[0m\u001b[1;33m)\u001b[0m\u001b[1;33m)\u001b[0m\u001b[1;33m\u001b[0m\u001b[0m\n\u001b[0m",
      "\u001b[1;31mTypeError\u001b[0m: unhashable type: 'list'"
     ]
    }
   ],
   "source": [
    "# 변경 가능 자료인 리스트는 집합의 원소가 될 수 없다.\n",
    "print(set([[1,2,3],[4,5,6]]))"
   ]
  },
  {
   "cell_type": "markdown",
   "metadata": {},
   "source": [
    "![title](image/pyo04.JPG)"
   ]
  },
  {
   "cell_type": "markdown",
   "metadata": {},
   "source": [
    "## 사전"
   ]
  },
  {
   "cell_type": "code",
   "execution_count": 136,
   "metadata": {},
   "outputs": [
    {
     "name": "stdout",
     "output_type": "stream",
     "text": [
      "{'soccer': 11, 'baseball': 9, 'volleyball': 6}\n"
     ]
    }
   ],
   "source": [
    "member = {'basketball':5, 'soccer':11, 'baseball':9}\n",
    "member['volleyball'] = 7 # 새로운 아이템 설정\n",
    "member['volleyball'] = 6 # 변경\n",
    "\n",
    "del member['basketball'] # 항목 삭제\n",
    "print(member)"
   ]
  },
  {
   "cell_type": "markdown",
   "metadata": {},
   "source": [
    "- 키는 변경 불가능한 자료만 가능\n",
    "  - 문자열, 숫자, 튜플은 가능\n",
    "  - 리스트, 사전은 키가 될 수 없음"
   ]
  },
  {
   "cell_type": "code",
   "execution_count": 139,
   "metadata": {},
   "outputs": [
    {
     "name": "stdout",
     "output_type": "stream",
     "text": [
      "9\n",
      "-1\n",
      "\n",
      "1\n"
     ]
    }
   ],
   "source": [
    "# 함수 이름은 사전의 키나 값으로 사용 가능.\n",
    "def add(a, b):\n",
    "    return a + b\n",
    "\n",
    "def sub(a, b):\n",
    "    return a - b\n",
    "\n",
    "action = {0: add, 1: sub}   # 함수 이름을 사전의 값으로 사용\n",
    "print(action[0](4, 5))\n",
    "print(action[1](4, 5))\n",
    "print()\n",
    "action2 = {add: 1, sub: 2}  # 함수 이름을 사전의 키로 사용\n",
    "print(action2[add])"
   ]
  },
  {
   "cell_type": "code",
   "execution_count": 140,
   "metadata": {},
   "outputs": [
    {
     "name": "stdout",
     "output_type": "stream",
     "text": [
      "<class 'dict'>\n",
      "\n",
      "{'one': 1, 'two': 2}\n",
      "{'one': 1, 'two': 2}\n",
      "{'one': 1, 'two': 2}\n"
     ]
    }
   ],
   "source": [
    "# 사전 생성 방법\n",
    "d = dict()\n",
    "print(type(d))\n",
    "print()\n",
    "\n",
    "print(dict(one=1, two=2))\n",
    "print(dict([('one', 1), ('two', 2)]))\n",
    "print(dict({'one':1, 'two':2}))\n"
   ]
  },
  {
   "cell_type": "code",
   "execution_count": 143,
   "metadata": {},
   "outputs": [
    {
     "name": "stdout",
     "output_type": "stream",
     "text": [
      "<zip object at 0x0000024D02218548>\n",
      "{'one': 1, 'two': 2, 'three': 3}\n",
      "{1: 'one', 2: 'two', 3: 'three'}\n"
     ]
    }
   ],
   "source": [
    "# zip(): 두 개의 자료를 순서대로 쌍으로 묶은 튜플들의 리스트 반환\n",
    "keys = ['one', 'two', 'three']\n",
    "values = (1, 2, 3)\n",
    "print(zip(keys, values)) \n",
    "print(dict(zip(keys, values)))\n",
    "print(dict(zip(values, keys)))"
   ]
  },
  {
   "cell_type": "code",
   "execution_count": 151,
   "metadata": {},
   "outputs": [
    {
     "name": "stdout",
     "output_type": "stream",
     "text": [
      "dict_keys(['jack', 'jin', 'Joseph'])\n",
      "dict_values([9465215, 1111, 6584321])\n",
      "dict_items([('jack', 9465215), ('jin', 1111), ('Joseph', 6584321)])\n",
      "\n",
      "True\n",
      "False\n"
     ]
    }
   ],
   "source": [
    "# 사전의 메소드\n",
    "phone = {'jack':9465215, 'jin':1111, 'Joseph':6584321}\n",
    "\n",
    "print(phone.keys()) # 키의 리스트 반환\n",
    "print(phone.values()) # 값들의 리스트 반환\n",
    "print(phone.items()) # (키, 값)의 리스트 반환\n",
    "print()\n",
    "print('jack' in phone) # 'jack'이 phone의 키에 포함되어 있는가?\n",
    "print('lee' in phone)"
   ]
  },
  {
   "cell_type": "code",
   "execution_count": 145,
   "metadata": {},
   "outputs": [
    {
     "name": "stdout",
     "output_type": "stream",
     "text": [
      "{'jack': 1234, 'jin': 1111, 'Joseph': 6584321}\n",
      "{'jack': 1234, 'jin': 1111, 'Joseph': 6584321}\n",
      "\n",
      "{'jack': 1111, 'jin': 1111, 'Joseph': 6584321}\n",
      "{'jack': 1234, 'jin': 1111, 'Joseph': 6584321}\n"
     ]
    }
   ],
   "source": [
    "# D2 = D.copy() : 사전 D를 복사하여 D2 사전에 할당\n",
    "# Shallow Copy를 수행한다.\n",
    "phone = {'jack':9465215, 'jin':1111, 'Joseph':6584321}\n",
    "p = phone # 사전 레퍼런스 복사. 사전 객체는 공유된다.\n",
    "\n",
    "phone['jack'] = 1234 # phone을 변경하면\n",
    "print(phone)\n",
    "print(p) # p도 함께 변경된다.\n",
    "print()\n",
    "\n",
    "ph = phone.copy() # 사전복사. 별도의 사전 객체가 마련된다.\n",
    "phone['jack'] = 1111 # phone을 바꿔도\n",
    "print(phone)\n",
    "print(ph) # ph는 바뀌지 않는다."
   ]
  },
  {
   "cell_type": "code",
   "execution_count": 146,
   "metadata": {},
   "outputs": [
    {
     "name": "stdout",
     "output_type": "stream",
     "text": [
      "{'a': [1, 2, 3], 'b': 4}\n",
      "{'a': [1, 2, 3], 'b': 4}\n",
      "\n",
      "{'a': [1, 2, 3], 'b': 100}\n",
      "{'a': [1, 2, 3], 'b': 4}\n",
      "\n",
      "{'a': [100, 2, 3], 'b': 100}\n",
      "{'a': [100, 2, 3], 'b': 4}\n"
     ]
    }
   ],
   "source": [
    "# Shallow Copy\n",
    "phone = {'a': [1,2,3], 'b': 4}\n",
    "phone2 = phone.copy()\n",
    "print(phone)\n",
    "print(phone2)\n",
    "print()\n",
    "\n",
    "phone['b'] = 100\n",
    "print(phone)\n",
    "print(phone2)\n",
    "print()\n",
    "\n",
    "phone['a'][0] = 100\n",
    "print(phone)\n",
    "print(phone2)"
   ]
  },
  {
   "cell_type": "markdown",
   "metadata": {},
   "source": [
    "![title](image/pic01.JPG)"
   ]
  },
  {
   "cell_type": "code",
   "execution_count": 148,
   "metadata": {},
   "outputs": [
    {
     "name": "stdout",
     "output_type": "stream",
     "text": [
      "9465215\n",
      "None\n",
      "5284\n"
     ]
    },
    {
     "ename": "KeyError",
     "evalue": "'gslee'",
     "output_type": "error",
     "traceback": [
      "\u001b[1;31m---------------------------------------------------------------------------\u001b[0m",
      "\u001b[1;31mKeyError\u001b[0m                                  Traceback (most recent call last)",
      "\u001b[1;32m<ipython-input-148-3ab57f995f14>\u001b[0m in \u001b[0;36m<module>\u001b[1;34m()\u001b[0m\n\u001b[0;32m      6\u001b[0m \u001b[0mprint\u001b[0m\u001b[1;33m(\u001b[0m\u001b[0mph\u001b[0m\u001b[1;33m.\u001b[0m\u001b[0mget\u001b[0m\u001b[1;33m(\u001b[0m\u001b[1;34m'gslee'\u001b[0m\u001b[1;33m,\u001b[0m \u001b[1;36m5284\u001b[0m\u001b[1;33m)\u001b[0m\u001b[1;33m)\u001b[0m \u001b[1;31m# 인수를 하나 더 제공하면 'gslee'가 없는 경우에 5284 리턴\u001b[0m\u001b[1;33m\u001b[0m\u001b[0m\n\u001b[0;32m      7\u001b[0m \u001b[1;33m\u001b[0m\u001b[0m\n\u001b[1;32m----> 8\u001b[1;33m \u001b[0mprint\u001b[0m\u001b[1;33m(\u001b[0m\u001b[0mph\u001b[0m\u001b[1;33m[\u001b[0m\u001b[1;34m'gslee'\u001b[0m\u001b[1;33m]\u001b[0m\u001b[1;33m)\u001b[0m \u001b[1;31m# ph['gslee']는 키가 없는 경우 예외발생\u001b[0m\u001b[1;33m\u001b[0m\u001b[0m\n\u001b[0m",
      "\u001b[1;31mKeyError\u001b[0m: 'gslee'"
     ]
    }
   ],
   "source": [
    "ph = {'jack':9465215, 'jin':1111, 'Joseph':6584321}\n",
    "\n",
    "print(ph.get('jack'))  # 'jack'에 대한 값을 얻는다. ph['jack']과 같다.\n",
    "\n",
    "print(ph.get('gslee')) # 'gslee'에 대한 값을 얻는다. 값이 없는 경우 None반환\n",
    "print(ph.get('gslee', 5284)) # 인수를 하나 더 제공하면 'gslee'가 없는 경우에 5284 리턴\n",
    "\n",
    "print(ph['gslee']) # ph['gslee']는 키가 없는 경우 예외발생"
   ]
  },
  {
   "cell_type": "code",
   "execution_count": 149,
   "metadata": {},
   "outputs": [
    {
     "name": "stdout",
     "output_type": "stream",
     "text": [
      "('Joseph', 6584321)\n",
      "{'jack': 9465215, 'jin': 1111}\n",
      "\n",
      "('jin', 1111)\n",
      "{'jack': 9465215}\n",
      "\n",
      "9465215\n",
      "{}\n"
     ]
    }
   ],
   "source": [
    "print(ph.popitem())                # 임의의 아이템을 꺼낸다.\n",
    "print(ph)\n",
    "print()\n",
    "\n",
    "print(ph.popitem())                 # 임의의 아이템을 꺼낸다.\n",
    "print(ph)\n",
    "print()\n",
    "\n",
    "print(ph.pop('jack'))              # 키 값을 통해 해당 아이템을 지정하여 꺼낸다.\n",
    "print(ph)"
   ]
  },
  {
   "cell_type": "code",
   "execution_count": 150,
   "metadata": {},
   "outputs": [
    {
     "name": "stdout",
     "output_type": "stream",
     "text": [
      "{'jack': 9465215, 'jin': 1111, 'Joseph': 6584321, 'kim': 12312, 'lee': 9090}\n",
      "\n",
      "{}\n"
     ]
    }
   ],
   "source": [
    "phone = {'jack':9465215, 'jin':1111, 'Joseph':6584321}\n",
    "ph = {'kim':12312, 'lee': 9090}\n",
    "phone.update(ph) # 사전 phone의 내용을 ph으로 추가 갱신\n",
    "print(phone)\n",
    "print()\n",
    "phone.clear() # 사전의 모든 입력을 없앤다.\n",
    "print(phone)"
   ]
  },
  {
   "cell_type": "code",
   "execution_count": 152,
   "metadata": {},
   "outputs": [
    {
     "name": "stdout",
     "output_type": "stream",
     "text": [
      "a 1\n",
      "b 2\n",
      "c 3\n",
      "\n",
      "a 1\n",
      "b 2\n",
      "c 3\n",
      "\n",
      "a 1\n",
      "b 2\n",
      "c 3\n"
     ]
    }
   ],
   "source": [
    "# for 루프로 사전 참조 방법\n",
    "\n",
    "# 사전의 모든 키 값을 참조\n",
    "D = {'a':1, 'b':2, 'c':3}\n",
    "for key in D.keys():\n",
    "    print(key, D[key])\n",
    "print ()\n",
    "# 사전 자체를 활용\n",
    "D = {'a':1, 'b':2, 'c':3}\n",
    "for key in D:\n",
    "    print(key, D[key])\n",
    "print()\n",
    "# 키와 값을 동시에 참조\n",
    "for key, value in D.items() :\n",
    "    print (key, value)\n"
   ]
  },
  {
   "cell_type": "code",
   "execution_count": 156,
   "metadata": {},
   "outputs": [
    {
     "name": "stdout",
     "output_type": "stream",
     "text": [
      "[('a', 1), ('b', 2), ('c', 3)]\n",
      "\n",
      "[('a', 1), ('b', 2), ('c', 3)]\n",
      "\n",
      "a 1\n",
      "b 2\n",
      "c 3\n"
     ]
    }
   ],
   "source": [
    "# 사전에 입력된 아이템들은 순서가 없음\n",
    "# 키 값에 대한 정렬은 아이템들을 리스트로 뽑은 다음에 sort()함수 활용\n",
    "D = {'a':1, 'b':2, 'c':3}\n",
    "items = list(D.items())\n",
    "print(items)\n",
    "print()\n",
    "\n",
    "items.sort()\n",
    "print(items)\n",
    "print()\n",
    "\n",
    "for k,v in items:\n",
    "    print(k, v)"
   ]
  },
  {
   "cell_type": "code",
   "execution_count": 2,
   "metadata": {},
   "outputs": [
    {
     "name": "stdout",
     "output_type": "stream",
     "text": [
      "\n",
      "hello\n",
      "my\n",
      "name\n",
      "is\n",
      "chad\n"
     ]
    }
   ],
   "source": [
    "multline= \"\"\"\n",
    "hello\n",
    "my\n",
    "name\n",
    "is\n",
    "chad\"\"\"\n",
    "print (multline)"
   ]
  },
  {
   "cell_type": "code",
   "execution_count": 9,
   "metadata": {},
   "outputs": [
    {
     "name": "stdout",
     "output_type": "stream",
     "text": [
      "hello world!\n",
      "Bye world!\n",
      "BYE WORLD!\n"
     ]
    }
   ],
   "source": [
    "s = 'Hello World!'\n",
    "print (s.lower())\n",
    "\n",
    "s = 'bye' + s[5:]\n",
    "print (s.capitalize())\n",
    "print (s.upper())"
   ]
  },
  {
   "cell_type": "code",
   "execution_count": 11,
   "metadata": {},
   "outputs": [
    {
     "name": "stdout",
     "output_type": "stream",
     "text": [
      "[0, 1, 2, 3]\n",
      "[0, 1, 2, 3]\n",
      "True\n"
     ]
    }
   ],
   "source": [
    "a = list(range(4))\n",
    "b = a\n",
    "\n",
    "print (a)\n",
    "print (b)\n",
    "print (a is b)"
   ]
  },
  {
   "cell_type": "code",
   "execution_count": 12,
   "metadata": {},
   "outputs": [
    {
     "name": "stdout",
     "output_type": "stream",
     "text": [
      "True\n"
     ]
    }
   ],
   "source": [
    "a = 3\n",
    "b = 3\n",
    "\n",
    "print (a is b)"
   ]
  },
  {
   "cell_type": "code",
   "execution_count": 14,
   "metadata": {},
   "outputs": [
    {
     "name": "stdout",
     "output_type": "stream",
     "text": [
      "False\n"
     ]
    }
   ],
   "source": [
    "print (bool([]))"
   ]
  },
  {
   "cell_type": "code",
   "execution_count": 34,
   "metadata": {},
   "outputs": [
    {
     "name": "stdout",
     "output_type": "stream",
     "text": [
      "{1: 'cat', 2: 'dog', 3: 'bird', 4: 'horse', 'cow': 5}\n",
      "(1, 'cat')\n",
      "(2, 'dog')\n",
      "(3, 'bird')\n",
      "(4, 'horse')\n",
      "('cow', 5)\n",
      "5\n",
      "True\n"
     ]
    }
   ],
   "source": [
    "t = {1: 'cat', 2: 'dog', 3: 'bird', 4: 'horse'}\n",
    "l = list(t)\n",
    "\n",
    "t['cow'] = 5\n",
    "print (t)\n",
    "for k in t.items() :\n",
    "    print (k)\n",
    "print (len(t))\n",
    "print (1 in t)"
   ]
  },
  {
   "cell_type": "code",
   "execution_count": 98,
   "metadata": {},
   "outputs": [
    {
     "name": "stdout",
     "output_type": "stream",
     "text": [
      "first line\n",
      "second line\n",
      "third line\n",
      "fourth line\n",
      "['first line', 'second line', 'third line', 'fourth line']\n",
      "['first line', 'second line', 'third line', 'fourth line']\n",
      "False\n"
     ]
    }
   ],
   "source": [
    "lines = '''first line\n",
    "second line\n",
    "third line\n",
    "fourth line'''\n",
    "\n",
    "print (lines)\n",
    "k = lines.split('\\n') # == splitlines()\n",
    "s = lines.splitlines()\n",
    "\n",
    "print (k)\n",
    "print (s)\n",
    "print ( k is s)"
   ]
  },
  {
   "cell_type": "code",
   "execution_count": 31,
   "metadata": {},
   "outputs": [
    {
     "name": "stdout",
     "output_type": "stream",
     "text": [
      "ssonssor\n"
     ]
    }
   ],
   "source": [
    "s = \"concor\"\n",
    "\n",
    "print (s.replace(\"c\", \"ss\"))\n",
    "\n"
   ]
  },
  {
   "cell_type": "code",
   "execution_count": 32,
   "metadata": {},
   "outputs": [
    {
     "name": "stdout",
     "output_type": "stream",
     "text": [
      "spam and cheese    \n",
      "['spam', 'and', 'cheese']\n"
     ]
    }
   ],
   "source": [
    "u = 'spam and cheese    '\n",
    "k = u.split()\n",
    "print (u)\n",
    "print (k)"
   ]
  },
  {
   "cell_type": "code",
   "execution_count": 44,
   "metadata": {},
   "outputs": [
    {
     "name": "stdout",
     "output_type": "stream",
     "text": [
      "Object `` not found.\n"
     ]
    }
   ],
   "source": [
    "? \\n"
   ]
  },
  {
   "cell_type": "code",
   "execution_count": 46,
   "metadata": {},
   "outputs": [
    {
     "name": "stdout",
     "output_type": "stream",
     "text": [
      "안찬웅 -- 8948\n",
      "안찬웅 -- 수원\n"
     ]
    }
   ],
   "source": [
    "print ('%(이름)s -- %(전화번호)s' %{'이름' : '안찬웅', '전화번호' : 8948 })\n",
    "print ('%(이름)s -- %(주소)s' %{'주소' : '수원', '이름' : '안찬웅', '전화번호' : 8948 })\n"
   ]
  },
  {
   "cell_type": "code",
   "execution_count": 49,
   "metadata": {},
   "outputs": [
    {
     "name": "stdout",
     "output_type": "stream",
     "text": [
      "\n",
      "안녕 다솔야 난 찬웅이야\n",
      "\n",
      "안녕 혜인야 난 찬웅이야\n",
      "\n",
      "안녕 혜리야 난 찬웅이야\n",
      "\n",
      "안녕 다솔야 난 찬웅이야\n",
      "\n",
      "안녕 혜인야 난 찬웅이야\n",
      "\n",
      "안녕 혜리야 난 찬웅이야\n"
     ]
    }
   ],
   "source": [
    "letter = '''\n",
    "안녕 %s야 난 찬웅이야'''\n",
    "\n",
    "t = ('다솔', '혜인', '혜리')\n",
    "l = list(t)\n",
    "for k in t :\n",
    "    print (letter %k)\n",
    "for s in l :\n",
    "    print (letter %s)"
   ]
  },
  {
   "cell_type": "code",
   "execution_count": 50,
   "metadata": {},
   "outputs": [
    {
     "name": "stdout",
     "output_type": "stream",
     "text": [
      "0 [1, 2, 3, 4, 5]\n"
     ]
    }
   ],
   "source": [
    "l = [1,2,3,4,5]\n",
    "\n",
    "print (0,l)"
   ]
  },
  {
   "cell_type": "code",
   "execution_count": 52,
   "metadata": {},
   "outputs": [
    {
     "name": "stdout",
     "output_type": "stream",
     "text": [
      "[1, 3, 4]\n"
     ]
    }
   ],
   "source": [
    "a = [1,2,3,4]\n",
    "\n",
    "a[0:2] = [1]\n",
    "print (a)"
   ]
  },
  {
   "cell_type": "code",
   "execution_count": 53,
   "metadata": {},
   "outputs": [
    {
     "name": "stdout",
     "output_type": "stream",
     "text": [
      "0 inch= 0.0 centi\n",
      "1 inch= 2.54 centi\n",
      "2 inch= 5.08 centi\n",
      "3 inch= 7.62 centi\n",
      "4 inch= 10.16 centi\n",
      "5 inch= 12.7 centi\n",
      "6 inch= 15.24 centi\n",
      "7 inch= 17.78 centi\n",
      "8 inch= 20.32 centi\n",
      "9 inch= 22.86 centi\n"
     ]
    }
   ],
   "source": [
    "for el in range(10) :\n",
    "    print (el, 'inch=',el*2.54, 'centi')"
   ]
  },
  {
   "cell_type": "code",
   "execution_count": 56,
   "metadata": {},
   "outputs": [
    {
     "name": "stdout",
     "output_type": "stream",
     "text": [
      "<list_reverseiterator object at 0x0000014E9C231358>\n"
     ]
    }
   ],
   "source": [
    "l = [1,5,4,3,2]\n",
    "\n",
    "l.reverse()\n",
    "\n",
    "k = reversed(l)\n",
    "\n",
    "print (k)"
   ]
  },
  {
   "cell_type": "code",
   "execution_count": 58,
   "metadata": {},
   "outputs": [
    {
     "name": "stdout",
     "output_type": "stream",
     "text": [
      "6\n",
      "[1, 2, 3, 4, 5]\n"
     ]
    }
   ],
   "source": [
    "l = [1,2,3,4,5]\n",
    "\n",
    "l.append(6)\n",
    "\n",
    "print(l.pop())\n",
    "\n",
    "print (l)"
   ]
  },
  {
   "cell_type": "code",
   "execution_count": 59,
   "metadata": {},
   "outputs": [
    {
     "name": "stdout",
     "output_type": "stream",
     "text": [
      "6\n",
      "[7, 8, 9, 10]\n"
     ]
    }
   ],
   "source": [
    "l = [6,7,8,9]\n",
    "\n",
    "l.append(10)\n",
    "\n",
    "print(l.pop(0))\n",
    "\n",
    "print (l)"
   ]
  },
  {
   "cell_type": "code",
   "execution_count": 63,
   "metadata": {},
   "outputs": [
    {
     "name": "stdout",
     "output_type": "stream",
     "text": [
      "[('lee', 5, 38), ('kim', 4, 39), ('ahn', 1, 25)]\n",
      "[('ahn', 1, 25), ('kim', 4, 39), ('lee', 5, 38)]\n",
      "None\n",
      "[('lee', 5, 38), ('kim', 4, 39), ('ahn', 1, 25)]\n"
     ]
    }
   ],
   "source": [
    "l = [('lee', 5, 38), ('kim', 4, 39), ('ahn', 1, 25)]\n",
    "\n",
    "def cmp_key_by_each_element(a) :\n",
    "    return a[1]\n",
    "print (l)\n",
    "l.sort(key = cmp_key_by_each_element)\n",
    "print (l)\n",
    "\n",
    "print (l.sort(key=cmp_key_by_each_element, reverse = True))\n",
    "print (sorted(l, key=cmp_key_by_each_element, reverse = True))"
   ]
  },
  {
   "cell_type": "code",
   "execution_count": 65,
   "metadata": {},
   "outputs": [
    {
     "name": "stdout",
     "output_type": "stream",
     "text": [
      "[(14, 3, 42), (14, 6, 84), (14, 9, 126), (14, 12, 168), (14, 15, 210), (14, 18, 252)]\n"
     ]
    }
   ],
   "source": [
    "L = [(i,j,i*j) for i in range(2,20,2) for j in range(3,20,3) if i*j%7 == 0]\n",
    "print (L)"
   ]
  },
  {
   "cell_type": "code",
   "execution_count": 66,
   "metadata": {},
   "outputs": [
    {
     "name": "stdout",
     "output_type": "stream",
     "text": [
      "(12345, 54321, 'hello', 1, 2, 3, 4, 5)\n"
     ]
    }
   ],
   "source": [
    "t = (12345, 54321, 'hello')\n",
    "u = t+(1,2,3,4,5)\n",
    "\n",
    "print (u)"
   ]
  },
  {
   "cell_type": "code",
   "execution_count": 68,
   "metadata": {},
   "outputs": [
    {
     "name": "stdout",
     "output_type": "stream",
     "text": [
      "[1, 2, 3, 4, 5]\n",
      "[1, 3, 4, 5]\n"
     ]
    }
   ],
   "source": [
    "L = [1,2,3,4,5]\n",
    "\n",
    "print (L)\n",
    "\n",
    "del L[1]\n",
    "\n",
    "print (L)"
   ]
  },
  {
   "cell_type": "code",
   "execution_count": 69,
   "metadata": {},
   "outputs": [
    {
     "name": "stdout",
     "output_type": "stream",
     "text": [
      "<class 'list'>\n",
      "<class 'dict'>\n",
      "<class 'tuple'>\n"
     ]
    }
   ],
   "source": [
    "l = list()\n",
    "d = dict()\n",
    "t = tuple()\n",
    "\n",
    "print(type(l))\n",
    "print(type(d))\n",
    "print(type(t))"
   ]
  },
  {
   "cell_type": "code",
   "execution_count": 71,
   "metadata": {},
   "outputs": [
    {
     "name": "stdout",
     "output_type": "stream",
     "text": [
      "dict_keys(['jack', 'jin', 'Joseph'])\n",
      "dict_values([9465215, 1111, 6584321])\n",
      "dict_items([('jack', 9465215), ('jin', 1111), ('Joseph', 6584321)])\n",
      "\n",
      "<class 'dict_items'>\n"
     ]
    }
   ],
   "source": [
    "phone = {'jack':9465215, 'jin':1111, 'Joseph':6584321}\n",
    "\n",
    "print(phone.keys()) # 키의 리스트 반환\n",
    "print(phone.values()) # 값들의 리스트 반환\n",
    "print(phone.items()) # (키, 값)의 리스트 반환\n",
    "print()\n",
    "\n",
    "print (type(phone.items()))"
   ]
  },
  {
   "cell_type": "code",
   "execution_count": 77,
   "metadata": {},
   "outputs": [
    {
     "name": "stdout",
     "output_type": "stream",
     "text": [
      "[1, 2, 3, 4, 5, 6, 7]\n",
      "<class 'tuple'>\n"
     ]
    }
   ],
   "source": [
    "l = [1,2,3,4,5]\n",
    "s = 6,7\n",
    "l.extend(s)\n",
    "print (l)\n",
    "print (type(s))"
   ]
  },
  {
   "cell_type": "code",
   "execution_count": 89,
   "metadata": {},
   "outputs": [
    {
     "name": "stdout",
     "output_type": "stream",
     "text": [
      "0 a 1\n",
      "1 b 2\n",
      "2 c 3\n"
     ]
    }
   ],
   "source": [
    "D = {'a':1, 'b':2, 'c':3}\n",
    "\n",
    "for k, a in enumerate(D) :\n",
    "    print (k, a, D[a])"
   ]
  },
  {
   "cell_type": "code",
   "execution_count": 83,
   "metadata": {},
   "outputs": [
    {
     "name": "stdout",
     "output_type": "stream",
     "text": [
      "False\n"
     ]
    }
   ],
   "source": [
    "c = (1,2)\n",
    "d = (1,2)\n",
    "\n",
    "print (c is d)"
   ]
  },
  {
   "cell_type": "code",
   "execution_count": 86,
   "metadata": {},
   "outputs": [
    {
     "name": "stdout",
     "output_type": "stream",
     "text": [
      "1\n",
      "-1\n",
      "0\n"
     ]
    }
   ],
   "source": [
    "def cmp(a,b) :\n",
    "    return (a>b)-(b>a)\n",
    "\n",
    "print (cmp(5,4))\n",
    "print (cmp(4,5))\n",
    "print (cmp(4,4))"
   ]
  },
  {
   "cell_type": "code",
   "execution_count": 94,
   "metadata": {},
   "outputs": [
    {
     "name": "stdout",
     "output_type": "stream",
     "text": [
      "       spam and ham    \n",
      "spam and ham\n",
      "spam and ham\n",
      "       spam and ham    \n",
      "['spam', 'and', 'ham']\n",
      "       spam and ham    \n"
     ]
    }
   ],
   "source": [
    "u = '       spam and ham    '\n",
    "print (u)\n",
    "print (u.strip())\n",
    "k = u.strip()\n",
    "print (k)\n",
    "print (u)\n",
    "print (u.split())\n",
    "print (u)"
   ]
  },
  {
   "cell_type": "code",
   "execution_count": 92,
   "metadata": {},
   "outputs": [
    {
     "name": "stdout",
     "output_type": "stream",
     "text": [
      "None\n",
      "[1, 2, 3, 5, 6]\n"
     ]
    }
   ],
   "source": [
    "l = [1,2,5,6,3]\n",
    "\n",
    "print (l.sort())\n",
    "print (sorted(l))"
   ]
  },
  {
   "cell_type": "code",
   "execution_count": null,
   "metadata": {
    "collapsed": true
   },
   "outputs": [],
   "source": []
  }
 ],
 "metadata": {
  "kernelspec": {
   "display_name": "Python 3",
   "language": "python",
   "name": "python3"
  },
  "language_info": {
   "codemirror_mode": {
    "name": "ipython",
    "version": 3
   },
   "file_extension": ".py",
   "mimetype": "text/x-python",
   "name": "python",
   "nbconvert_exporter": "python",
   "pygments_lexer": "ipython3",
   "version": "3.6.1"
  }
 },
 "nbformat": 4,
 "nbformat_minor": 2
}
